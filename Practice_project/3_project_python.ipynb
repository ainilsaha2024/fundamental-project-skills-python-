{
 "cells": [
  {
   "cell_type": "markdown",
   "metadata": {},
   "source": [
    "# Python Program to display powers of 2 using anonymous function"
   ]
  },
  {
   "cell_type": "code",
   "execution_count": null,
   "metadata": {},
   "outputs": [
    {
     "name": "stdout",
     "output_type": "stream",
     "text": [
      "[1, 2, 4, 8, 16, 32, 64, 128, 256, 512, 1024]\n",
      "the value of 2 raised to power 0 is 1\n",
      "the value of 2 raised to power 1 is 2\n",
      "the value of 2 raised to power 2 is 4\n",
      "the value of 2 raised to power 3 is 8\n",
      "the value of 2 raised to power 4 is 16\n",
      "the value of 2 raised to power 5 is 32\n",
      "the value of 2 raised to power 6 is 64\n",
      "the value of 2 raised to power 7 is 128\n",
      "the value of 2 raised to power 8 is 256\n",
      "the value of 2 raised to power 9 is 512\n",
      "the value of 2 raised to power 10 is 1024\n"
     ]
    }
   ],
   "source": [
    "ntearms=int(input(\"Enter number of terms here:\")) #10 \n",
    "\n",
    "result =list(map(lambda x : 2** x , range(ntearms +1)))\n",
    "\n",
    "print (result)\n",
    "\n",
    "for i in range (ntearms +1):\n",
    "    print(\"the value of 2 raised to power\",i,\"is\",result[i])\n"
   ]
  },
  {
   "cell_type": "markdown",
   "metadata": {},
   "source": [
    "# Python program to find numbers divisible by Another Number "
   ]
  },
  {
   "cell_type": "code",
   "execution_count": 9,
   "metadata": {},
   "outputs": [
    {
     "name": "stdout",
     "output_type": "stream",
     "text": [
      "The number divisible by 13 are:\n",
      "13\n",
      "26\n",
      "39\n",
      "52\n",
      "65\n",
      "78\n",
      "91\n"
     ]
    }
   ],
   "source": [
    "# solution 1 using for loop \n",
    "print(\"The number divisible by 13 are:\")\n",
    "for i in range (1,100):\n",
    "    if i % 13 ==  0:\n",
    "        print(i)"
   ]
  },
  {
   "cell_type": "code",
   "execution_count": 12,
   "metadata": {},
   "outputs": [
    {
     "name": "stdout",
     "output_type": "stream",
     "text": [
      "The number divisible by 13 are [13, 26, 39]\n"
     ]
    }
   ],
   "source": [
    "# solution 2 using lambda function and filter()\n",
    "l = range(1,50)\n",
    "result =list (filter(lambda x : x % 13 == 0, l ))\n",
    "print(\"The number divisible by 13 are\" , result)\n"
   ]
  },
  {
   "cell_type": "markdown",
   "metadata": {},
   "source": [
    "# Python Program to convert Decimal to Binary , Octal and Hexadecimal "
   ]
  },
  {
   "cell_type": "code",
   "execution_count": 15,
   "metadata": {},
   "outputs": [
    {
     "name": "stdout",
     "output_type": "stream",
     "text": [
      "The conversion of decimal number 12 is : \n",
      "0b1100 in Binary\n",
      "0o14 in octal\n",
      "0xc in Hexadeciaml\n"
     ]
    }
   ],
   "source": [
    "decimal = int(input(\"enter your number here:\"))\n",
    "\n",
    "print (\"The conversion of decimal number\",decimal,\"is : \")\n",
    "\n",
    "print(bin(decimal),\"in Binary\")\n",
    "print(oct(decimal),\"in octal\")\n",
    "print(hex(decimal),\"in Hexadeciaml\")"
   ]
  },
  {
   "cell_type": "markdown",
   "metadata": {},
   "source": [
    "# Python program to find ASCII value of character"
   ]
  },
  {
   "cell_type": "code",
   "execution_count": 23,
   "metadata": {},
   "outputs": [
    {
     "name": "stdout",
     "output_type": "stream",
     "text": [
      "the ASSII value of a is 97\n"
     ]
    }
   ],
   "source": [
    "char = input(\"enter your latter\") #a \n",
    "print(\"the ASSII value of\",char,\"is\",ord(char))"
   ]
  },
  {
   "cell_type": "markdown",
   "metadata": {},
   "source": [
    "# Python program to Find HGF or GCD "
   ]
  },
  {
   "cell_type": "code",
   "execution_count": 30,
   "metadata": {},
   "outputs": [
    {
     "name": "stdout",
     "output_type": "stream",
     "text": [
      "The hcf of the given tow number is 6\n"
     ]
    }
   ],
   "source": [
    "def findHCF(x,y):\n",
    "    if x > y:\n",
    "        smaller = y\n",
    "    else:\n",
    "        smaller = x \n",
    "    for i in range (1,smaller +1):\n",
    "        if ((x%i == 0) and (y%i == 0)):\n",
    "            hcf = i\n",
    "    return hcf \n",
    "print (\"The hcf of the given tow number is\",findHGF(30,12))"
   ]
  },
  {
   "cell_type": "markdown",
   "metadata": {},
   "source": [
    "# python program to find the factorial of a number "
   ]
  },
  {
   "cell_type": "code",
   "execution_count": 4,
   "metadata": {},
   "outputs": [
    {
     "name": "stdout",
     "output_type": "stream",
     "text": [
      "The factorial number 20 divided 1\n",
      "The factorial number 20 divided 2\n",
      "The factorial number 20 divided 4\n",
      "The factorial number 20 divided 5\n",
      "The factorial number 20 divided 10\n",
      "The factorial number 20 divided 20\n"
     ]
    }
   ],
   "source": [
    "facto = int(input(\"enteer a number here :\")) # 20 \n",
    "\n",
    "for i in range (1,facto + 1):\n",
    "    if facto % i == 0 :\n",
    "        print( f\"The factorial number {facto} divided\",i)"
   ]
  },
  {
   "cell_type": "markdown",
   "metadata": {},
   "source": [
    "# python program to make a simple calculator "
   ]
  },
  {
   "cell_type": "code",
   "execution_count": 14,
   "metadata": {},
   "outputs": [
    {
     "name": "stdout",
     "output_type": "stream",
     "text": [
      "~~~~~~~~~~~~Mini Calaculator~~~~~~~~~~~~~\n",
      "press 1 for addition \n",
      "press 2 for subtraction \n",
      "prees 3 for subtration \n",
      "prees 4 for division\n",
      "The mutipilication of given tow number is 100.0\n"
     ]
    }
   ],
   "source": [
    "print (\"~~~~~~~~~~~~Mini Calaculator~~~~~~~~~~~~~\")\n",
    "\n",
    "num1 = float(input(\"enter fast number here :\"))\n",
    "num2 =float(input(\"enter secoud number here :\"))\n",
    "\n",
    "p = \"press 1 for addition \\npress 2 for subtraction \\nprees 3 for subtration \\nprees 4 for division\"\n",
    "print (p)\n",
    "\n",
    "choice =int(input(\"enter your choice from 1-4 :\"))\n",
    "\n",
    "if choice == 1:\n",
    "    print (\"The addition of given tow number is \",num1 + num2)\n",
    "elif choice == 2 :\n",
    "    print (\"The subtration of given tow number is\", num1 - num2)\n",
    "elif choice == 3:\n",
    "    print(\"The mutipilication of given tow number is\",num1 * num2)\n",
    "elif choice == 4 :\n",
    "    print (\"The division of given tow number is\",num1 / num2)\n",
    "else :\n",
    "    print(\"invalid Input here please input 1-4 :\")\n"
   ]
  },
  {
   "cell_type": "markdown",
   "metadata": {},
   "source": [
    "# python program to shuffle Deck of cards"
   ]
  },
  {
   "cell_type": "code",
   "execution_count": null,
   "metadata": {},
   "outputs": [
    {
     "name": "stdout",
     "output_type": "stream",
     "text": [
      "[(1, 'spade'), (1, 'club'), (1, 'Hearts'), (1, 'Diamond'), (2, 'spade'), (2, 'club'), (2, 'Hearts'), (2, 'Diamond'), (3, 'spade'), (3, 'club'), (3, 'Hearts'), (3, 'Diamond'), (4, 'spade'), (4, 'club'), (4, 'Hearts'), (4, 'Diamond'), (5, 'spade'), (5, 'club'), (5, 'Hearts'), (5, 'Diamond'), (6, 'spade'), (6, 'club'), (6, 'Hearts'), (6, 'Diamond'), (7, 'spade'), (7, 'club'), (7, 'Hearts'), (7, 'Diamond'), (8, 'spade'), (8, 'club'), (8, 'Hearts'), (8, 'Diamond'), (9, 'spade'), (9, 'club'), (9, 'Hearts'), (9, 'Diamond'), (10, 'spade'), (10, 'club'), (10, 'Hearts'), (10, 'Diamond'), (11, 'spade'), (11, 'club'), (11, 'Hearts'), (11, 'Diamond'), (12, 'spade'), (12, 'club'), (12, 'Hearts'), (12, 'Diamond'), (13, 'spade'), (13, 'club'), (13, 'Hearts'), (13, 'Diamond')]\n",
      "4 of spade\n",
      "10 of club\n",
      "10 of Hearts\n",
      "6 of Hearts\n",
      "8 of club\n"
     ]
    }
   ],
   "source": [
    "import random , itertools #module\n",
    "deak =list(itertools.product(range(1,14),[\"spade\",\"club\",\"Hearts\",\"Diamond\"]))\n",
    "print(deak)\n",
    "random.shuffle(deak)\n",
    "for i in range(5) :\n",
    "    print(deak [i][0],\"of\",deak [i][1])\n"
   ]
  },
  {
   "cell_type": "markdown",
   "metadata": {},
   "source": [
    "# python program to Display Calender"
   ]
  },
  {
   "cell_type": "code",
   "execution_count": 17,
   "metadata": {},
   "outputs": [
    {
     "name": "stdout",
     "output_type": "stream",
     "text": [
      "   December 1971\n",
      "Mo Tu We Th Fr Sa Su\n",
      "       1  2  3  4  5\n",
      " 6  7  8  9 10 11 12\n",
      "13 14 15 16 17 18 19\n",
      "20 21 22 23 24 25 26\n",
      "27 28 29 30 31\n",
      "\n"
     ]
    }
   ],
   "source": [
    "import calendar \n",
    "years = int(input(\"Enter Year : \"))\n",
    "months =int(input(\"Enter Month :\"))\n",
    "\n",
    "calendars = calendar.month(years,months)\n",
    "print(calendars)"
   ]
  },
  {
   "cell_type": "markdown",
   "metadata": {},
   "source": [
    "# Python program to display fibonacci sequence using recursion"
   ]
  },
  {
   "cell_type": "code",
   "execution_count": null,
   "metadata": {},
   "outputs": [
    {
     "name": "stdout",
     "output_type": "stream",
     "text": [
      "fibonacci Sequence\n",
      "0\n",
      "1\n",
      "1\n",
      "2\n",
      "3\n",
      "5\n",
      "8\n"
     ]
    }
   ],
   "source": [
    "def fibo(n):\n",
    "    if n <=1 :\n",
    "        return n \n",
    "    else:\n",
    "        return fibo(n-1)+fibo(n-2)\n",
    "n =int(input(\"enter a number here :\")) # 7 (0+1=1 ,1+1=2 ,1+2=3 ,2+3=5 ,3+5=8 )\n",
    "if n <= 0: \n",
    "    print(\"enter positive number \")\n",
    "else :\n",
    "    print(\"fibonacci Sequence\")\n",
    "    for i in range (n):\n",
    "        print(fibo(i))\n"
   ]
  }
 ],
 "metadata": {
  "kernelspec": {
   "display_name": "myenv",
   "language": "python",
   "name": "python3"
  },
  "language_info": {
   "codemirror_mode": {
    "name": "ipython",
    "version": 3
   },
   "file_extension": ".py",
   "mimetype": "text/x-python",
   "name": "python",
   "nbconvert_exporter": "python",
   "pygments_lexer": "ipython3",
   "version": "3.13.1"
  }
 },
 "nbformat": 4,
 "nbformat_minor": 2
}
