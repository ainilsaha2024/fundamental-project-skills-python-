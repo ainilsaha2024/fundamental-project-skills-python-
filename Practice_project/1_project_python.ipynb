{
 "cells": [
  {
   "cell_type": "markdown",
   "metadata": {},
   "source": [
    "# print (\"hello world)"
   ]
  },
  {
   "cell_type": "code",
   "execution_count": 9,
   "metadata": {},
   "outputs": [
    {
     "name": "stdout",
     "output_type": "stream",
     "text": [
      "HELLO WORLD\n"
     ]
    }
   ],
   "source": [
    "print(\"HELLO WORLD\")"
   ]
  },
  {
   "cell_type": "markdown",
   "metadata": {},
   "source": [
    "# Add Tow Number python program\n"
   ]
  },
  {
   "cell_type": "code",
   "execution_count": 1,
   "metadata": {},
   "outputs": [
    {
     "name": "stdout",
     "output_type": "stream",
     "text": [
      "The sum of given tow number is 300\n"
     ]
    }
   ],
   "source": [
    "# solution -1 (with pre - defined variables)\n",
    "num1 = 100 \n",
    "num2 = 200 \n",
    "sum = num1 + num2 \n",
    "print (\"The sum of given tow number is\", sum)"
   ]
  },
  {
   "cell_type": "code",
   "execution_count": 8,
   "metadata": {},
   "outputs": [
    {
     "name": "stdout",
     "output_type": "stream",
     "text": [
      "The sub of the provided tow number is 30.0\n"
     ]
    }
   ],
   "source": [
    "# solution -2 (with user - inputs)\n",
    "number_1 = float(input(\"enter a 1st number here  :\"))\n",
    "number_2 = float(input(\"enter a 2nd number here:\"))\n",
    "result = number_1 + number_2\n",
    "print (\"The sub of the provided tow number is\",result)"
   ]
  },
  {
   "cell_type": "markdown",
   "metadata": {},
   "source": [
    "# Find & calculate square root program in python "
   ]
  },
  {
   "cell_type": "code",
   "execution_count": null,
   "metadata": {},
   "outputs": [
    {
     "name": "stdout",
     "output_type": "stream",
     "text": [
      "The square root of the given number is 7.0\n"
     ]
    }
   ],
   "source": [
    "# solution - 1 (using exponentiation)\n",
    "a = float(input(\"enter a number here:\")) #49=7*7 input \n",
    "sr = a**(0.5)\n",
    "print ( \"The square root of the given number is\",sr)"
   ]
  },
  {
   "cell_type": "code",
   "execution_count": null,
   "metadata": {},
   "outputs": [
    {
     "name": "stdout",
     "output_type": "stream",
     "text": [
      "the square root of the given number is  5.0\n"
     ]
    }
   ],
   "source": [
    "# solution - 2 (using math module)\n",
    "import math #module \n",
    "x = float(input(\"Enter a number here:\")) # 25=5*5 \n",
    "sr1 = math.sqrt(x)  #function\n",
    "print(\"the square root of the given number is \",sr1)"
   ]
  },
  {
   "cell_type": "markdown",
   "metadata": {},
   "source": [
    "# Python program to calculate the area of a triangle "
   ]
  },
  {
   "cell_type": "code",
   "execution_count": null,
   "metadata": {},
   "outputs": [
    {
     "name": "stdout",
     "output_type": "stream",
     "text": [
      "the area of triangle 31.25\n"
     ]
    }
   ],
   "source": [
    "# solution -1 (Triangle)\n",
    "height = float(input(\"enter your triangle height number:\"))  # 12.5\n",
    "base = float(input(\"enter your triangle base number:\"))  #5\n",
    "area = (0.5)*base*height\n",
    "print(\"the area of triangle\",area)\n"
   ]
  },
  {
   "cell_type": "code",
   "execution_count": 20,
   "metadata": {},
   "outputs": [
    {
     "name": "stdout",
     "output_type": "stream",
     "text": [
      "12.5\n",
      "5.0\n"
     ]
    }
   ],
   "source": [
    "print(height)\n",
    "print(base)"
   ]
  },
  {
   "cell_type": "markdown",
   "metadata": {},
   "source": [
    "# python program to swap two variables"
   ]
  },
  {
   "cell_type": "code",
   "execution_count": null,
   "metadata": {},
   "outputs": [
    {
     "name": "stdout",
     "output_type": "stream",
     "text": [
      "the value of temp variable is 100\n",
      "The value of x is 200\n",
      "the value of y is 100\n",
      "x= 200 y= 100\n"
     ]
    }
   ],
   "source": [
    "x = 100 \n",
    "y = 200 \n",
    "temp = x #100\n",
    "print (\"the value of temp variable is\",temp)\n",
    "x = y #200\n",
    "print(\"The value of x is\",x)\n",
    "y = temp #100 \n",
    "print(\"the value of y is\",y)\n",
    "\n",
    "print(\"x=\", x,\"y=\", y) #swap "
   ]
  },
  {
   "cell_type": "code",
   "execution_count": null,
   "metadata": {},
   "outputs": [
    {
     "name": "stdout",
     "output_type": "stream",
     "text": [
      "The value of a is 20\n",
      "The value of b is 10\n"
     ]
    }
   ],
   "source": [
    "#solution(without using third variable)\n",
    "a = 10 \n",
    "b = 20\n",
    "a,b = b,a #swap \n",
    "print(\"The value of a is\",a)\n",
    "print(\"The value of b is\",b)\n"
   ]
  },
  {
   "cell_type": "markdown",
   "metadata": {},
   "source": [
    "# Python Program to convert kilometers to miles"
   ]
  },
  {
   "cell_type": "code",
   "execution_count": 35,
   "metadata": {},
   "outputs": [
    {
     "name": "stdout",
     "output_type": "stream",
     "text": [
      "5.0 Kilometers will be 3.106855 Miles\n"
     ]
    }
   ],
   "source": [
    "km = float(input(\"enter your value in Kms :\")) # 5\n",
    "miles = (0.621371)*km \n",
    "print (km , \"Kilometers will be\", miles,\"Miles\")"
   ]
  },
  {
   "cell_type": "markdown",
   "metadata": {},
   "source": [
    "# python program is a number positive negative or zero ?"
   ]
  },
  {
   "cell_type": "code",
   "execution_count": 42,
   "metadata": {},
   "outputs": [
    {
     "name": "stdout",
     "output_type": "stream",
     "text": [
      "It is a negative number\n"
     ]
    }
   ],
   "source": [
    "# program to cheak if a number is positive ,negative or zero:\n",
    "nil = float(input(\"enter your number:\"))\n",
    "if nil > 0 : \n",
    "    print( \"it is a positive number\") #1\n",
    "elif nil == 0 : \n",
    "    print(\"It is zero\") #0\n",
    "else:\n",
    "    print(\"It is a negative number\") #-1"
   ]
  },
  {
   "cell_type": "markdown",
   "metadata": {},
   "source": [
    "# python program to cheak if a number is odd or even "
   ]
  },
  {
   "cell_type": "code",
   "execution_count": 46,
   "metadata": {},
   "outputs": [
    {
     "name": "stdout",
     "output_type": "stream",
     "text": [
      "it is a even number\n"
     ]
    }
   ],
   "source": [
    "niloy = float(input(\"enter your number:\")) \n",
    "if niloy % 2 == 0 :\n",
    "    print(\"it is a even number\") #12%2 = 0\n",
    "else:\n",
    "    print(\"is is a odd number\") #11%2= 1 "
   ]
  },
  {
   "cell_type": "markdown",
   "metadata": {},
   "source": [
    "# Python program to cheak leap year "
   ]
  },
  {
   "cell_type": "code",
   "execution_count": 52,
   "metadata": {},
   "outputs": [
    {
     "name": "stdout",
     "output_type": "stream",
     "text": [
      "2022 is not a leap year\n"
     ]
    }
   ],
   "source": [
    "year = int(input(\"enter a year:\"))\n",
    "if (year % 400 == 0) and (year % 100 == 0):\n",
    "    print(year,\"is a leap year\")\n",
    "elif (year % 4 == 0) and (year % 100 != 0):\n",
    "    print(year,\"is a leap year\")\n",
    "else:\n",
    "    print(year,\"is not a leap year\")\n"
   ]
  },
  {
   "cell_type": "markdown",
   "metadata": {},
   "source": [
    "# python program to Find the largest among three numbers"
   ]
  },
  {
   "cell_type": "code",
   "execution_count": 56,
   "metadata": {},
   "outputs": [
    {
     "name": "stdout",
     "output_type": "stream",
     "text": [
      "15 lemon is hights price\n"
     ]
    }
   ],
   "source": [
    "mango = int(input(\"enter your mango price:\"))\n",
    "banna =int(input(\"enter your banna price\"))\n",
    "lemon = int(input(\"enter your lemon price\"))\n",
    "if mango > banna and mango > lemon:\n",
    "    print(mango,\"mango is hights price\") #5\n",
    "elif banna > mango and banna > lemon:\n",
    "    print(banna,\"banna is hights price\") #10\n",
    "else:\n",
    "    print(lemon,\"lemon is hights price\") # 15\n"
   ]
  }
 ],
 "metadata": {
  "kernelspec": {
   "display_name": "myenv",
   "language": "python",
   "name": "python3"
  },
  "language_info": {
   "codemirror_mode": {
    "name": "ipython",
    "version": 3
   },
   "file_extension": ".py",
   "mimetype": "text/x-python",
   "name": "python",
   "nbconvert_exporter": "python",
   "pygments_lexer": "ipython3",
   "version": "3.13.1"
  }
 },
 "nbformat": 4,
 "nbformat_minor": 2
}
