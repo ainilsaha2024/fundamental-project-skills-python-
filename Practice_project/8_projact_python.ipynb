{
 "cells": [
  {
   "cell_type": "markdown",
   "metadata": {},
   "source": [
    "# Build your own currency converter app using GUI USD TO BDT "
   ]
  },
  {
   "cell_type": "code",
   "execution_count": 4,
   "metadata": {},
   "outputs": [],
   "source": [
    "from currency_converter import CurrencyConverter\n",
    "import tkinter as tk\n",
    "from tkinter import ttk\n",
    "\n",
    "# Initialize currency converter\n",
    "c = CurrencyConverter()\n",
    "\n",
    "# Manually adding BDT conversion rates\n",
    "bdt_to_usd = 0.0091  # Example: 1 BDT = 0.0082 USD\n",
    "usd_to_bdt = 121.59  # Example: 1 USD = 121.59 BDT (Change as needed)\n",
    "\n",
    "# Function to perform conversion\n",
    "def convert_currency():\n",
    "    try:\n",
    "        amount = float(entry_amount.get())\n",
    "        from_currency = combo_from.get()\n",
    "        to_currency = combo_to.get()\n",
    "\n",
    "        # Manual conversion for BDT since CurrencyConverter does not support BDT\n",
    "        if from_currency == \"BDT\" and to_currency == \"USD\":\n",
    "            converted_amount = amount * bdt_to_usd  \n",
    "        elif from_currency == \"USD\" and to_currency == \"BDT\":\n",
    "            converted_amount = amount * usd_to_bdt  \n",
    "        else:\n",
    "            converted_amount = c.convert(amount, from_currency, to_currency)  # Normal conversion\n",
    "\n",
    "        label_result.config(text=f\"Converted Amount: {converted_amount:.2f} {to_currency}\")\n",
    "    except Exception:\n",
    "        label_result.config(text=\"Error: Invalid input\")\n",
    "\n",
    "# Initialize Tkinter window\n",
    "window = tk.Tk()\n",
    "window.title(\"Currency Converter (USD ⇄ BDT)\")\n",
    "window.geometry(\"400x300\")\n",
    "\n",
    "# Title Label\n",
    "label_title = tk.Label(window, text=\"Currency Converter\", font=(\"Arial\", 18, \"bold\"))\n",
    "label_title.pack(pady=10)\n",
    "\n",
    "# Amount Input\n",
    "label_amount = tk.Label(window, text=\"Enter Amount:\")\n",
    "label_amount.pack()\n",
    "entry_amount = tk.Entry(window)\n",
    "entry_amount.pack()\n",
    "\n",
    "# From Currency Dropdown\n",
    "label_from = tk.Label(window, text=\"From Currency:\")\n",
    "label_from.pack()\n",
    "combo_from = ttk.Combobox(window, values=[\"USD\", \"BDT\"], state=\"readonly\")\n",
    "combo_from.set(\"USD\")  # Default: USD\n",
    "combo_from.pack()\n",
    "\n",
    "# To Currency Dropdown\n",
    "label_to = tk.Label(window, text=\"To Currency:\")\n",
    "label_to.pack()\n",
    "combo_to = ttk.Combobox(window, values=[\"USD\", \"BDT\"], state=\"readonly\")\n",
    "combo_to.set(\"BDT\")  # Default: BDT\n",
    "combo_to.pack()\n",
    "\n",
    "# Convert Button\n",
    "button_convert = tk.Button(window, text=\"Convert\", command=convert_currency, bg=\"blue\", fg=\"white\")\n",
    "button_convert.pack(pady=10)\n",
    "\n",
    "# Result Label\n",
    "label_result = tk.Label(window, text=\"Converted Amount: \", font=(\"Arial\", 12, \"bold\"))\n",
    "label_result.pack(pady=10)\n",
    "\n",
    "# Run the Tkinter loop\n",
    "window.mainloop()\n"
   ]
  },
  {
   "cell_type": "markdown",
   "metadata": {},
   "source": []
  }
 ],
 "metadata": {
  "kernelspec": {
   "display_name": "myenv",
   "language": "python",
   "name": "python3"
  },
  "language_info": {
   "codemirror_mode": {
    "name": "ipython",
    "version": 3
   },
   "file_extension": ".py",
   "mimetype": "text/x-python",
   "name": "python",
   "nbconvert_exporter": "python",
   "pygments_lexer": "ipython3",
   "version": "3.13.1"
  }
 },
 "nbformat": 4,
 "nbformat_minor": 2
}
