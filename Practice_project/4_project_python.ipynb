{
 "cells": [
  {
   "cell_type": "markdown",
   "metadata": {},
   "source": [
    "# python program to find sum of natural numbers using Resursion"
   ]
  },
  {
   "cell_type": "code",
   "execution_count": 8,
   "metadata": {},
   "outputs": [
    {
     "name": "stdout",
     "output_type": "stream",
     "text": [
      "Enter sum of natural Number Upto given Number is 15\n"
     ]
    }
   ],
   "source": [
    "def NNS(n):\n",
    "    if n <= 1 :\n",
    "        return n \n",
    "    else:\n",
    "        return (n)+NNS(n-1)\n",
    "n =int(input(\"Enter a Number here :\")) #5 \n",
    "\n",
    "if n<=0 :\n",
    "    print(\"Enter a Positive Number :\")\n",
    "else:\n",
    "    print(\"Enter sum of natural Number Upto given Number is\",NNS(n))"
   ]
  },
  {
   "cell_type": "markdown",
   "metadata": {},
   "source": [
    "# python program to find Factorial of numbers using Resursion"
   ]
  },
  {
   "cell_type": "code",
   "execution_count": 10,
   "metadata": {},
   "outputs": [
    {
     "name": "stdout",
     "output_type": "stream",
     "text": [
      "Factorial of given number is ! 120\n"
     ]
    }
   ],
   "source": [
    "def fact(n):\n",
    "    if n == 1:\n",
    "        return 1\n",
    "    else:\n",
    "        return (n* fact (n-1))\n",
    "n = int(input(\"Enter a number here : \"))\n",
    "if n <= 0 :\n",
    "    print(\"factorial of number less than 1 does not exists\")\n",
    "else:\n",
    "    print(\"Factorial of given number is !\",fact(n))"
   ]
  },
  {
   "cell_type": "markdown",
   "metadata": {},
   "source": [
    "# python program to Convert Decimal to Binary using Resursion"
   ]
  },
  {
   "cell_type": "code",
   "execution_count": 2,
   "metadata": {},
   "outputs": [
    {
     "name": "stdout",
     "output_type": "stream",
     "text": [
      "the Binary of the given number\n"
     ]
    }
   ],
   "source": [
    "def ConvertBinary(n):\n",
    "    if n > 1:\n",
    "        ConvertBinary(n//2)\n",
    "    print(n%2,end= \"\")\n",
    "\n",
    "print(\"the Binary of the given number\") "
   ]
  },
  {
   "cell_type": "code",
   "execution_count": 3,
   "metadata": {},
   "outputs": [
    {
     "name": "stdout",
     "output_type": "stream",
     "text": [
      "100000"
     ]
    }
   ],
   "source": [
    "ConvertBinary(32)"
   ]
  },
  {
   "cell_type": "markdown",
   "metadata": {},
   "source": [
    "# Python program to add Tow Matrices"
   ]
  },
  {
   "cell_type": "code",
   "execution_count": 4,
   "metadata": {},
   "outputs": [
    {
     "name": "stdout",
     "output_type": "stream",
     "text": [
      "[5, 10, 14]\n",
      "[12, 15, 8]\n",
      "[10, 7, 9]\n"
     ]
    }
   ],
   "source": [
    "A = [  [ 1,5,8 ],\n",
    "       [ 4,6,7 ],\n",
    "       [ 7,2,3 ]  ]\n",
    "\n",
    "B = [  [ 4,5,6 ],\n",
    "       [ 8,9,1 ],\n",
    "       [ 3,5,6 ]  ]\n",
    "\n",
    "result = [ [0,0,0,],\n",
    "           [0,0,0,],\n",
    "           [0,0,0,]  ]\n",
    "\n",
    "for i in range(len(A)):\n",
    "    for j in range(len(A[0])):\n",
    "        result [i][j] = A[i][j] + B[i][j]\n",
    "for r in result:\n",
    "    print(r)"
   ]
  },
  {
   "cell_type": "markdown",
   "metadata": {},
   "source": [
    "# Python program to Transpose a matrix"
   ]
  },
  {
   "cell_type": "code",
   "execution_count": 8,
   "metadata": {},
   "outputs": [
    {
     "name": "stdout",
     "output_type": "stream",
     "text": [
      "[1, 4]\n",
      "[2, 5]\n",
      "[3, 6]\n"
     ]
    }
   ],
   "source": [
    "# solution 1 using for loop \n",
    "A = [  [ 1,2,3 ],\n",
    "       [ 4,5,6 ], ]\n",
    "\n",
    "T = [  [ 0,0 ],\n",
    "       [ 0,0 ],\n",
    "       [ 0,0 ]  ]\n",
    "for i in range(len(A)):\n",
    "    for j in range(len(A[0])):\n",
    "        T [j][i] = A [i][j]\n",
    "for i in T:\n",
    "    print (i)"
   ]
  },
  {
   "cell_type": "code",
   "execution_count": 10,
   "metadata": {},
   "outputs": [
    {
     "name": "stdout",
     "output_type": "stream",
     "text": [
      "[1, 4]\n",
      "[2, 5]\n",
      "[3, 6]\n"
     ]
    }
   ],
   "source": [
    "#solution 2 using List comprehension \n",
    "A = [  [ 1,2,3 ],\n",
    "       [ 4,5,6 ], ]\n",
    "T =[ [A [j] [i] for j in range( len(A) ) ] for i in range( len(A[0]) ) ]\n",
    "for i in T :\n",
    "    print(i)"
   ]
  },
  {
   "cell_type": "markdown",
   "metadata": {},
   "source": [
    "# Python program to Check Whether a string is palindrome or Not "
   ]
  },
  {
   "cell_type": "code",
   "execution_count": null,
   "metadata": {},
   "outputs": [
    {
     "name": "stdout",
     "output_type": "stream",
     "text": [
      "It is palindrome\n"
     ]
    }
   ],
   "source": [
    "a = input(\"enter a word here :\") \n",
    "rev = a [:: -1 ]\n",
    "if a == rev:\n",
    "    print(\"It is palindrome\") # madam ,wow \n",
    "else:\n",
    "    print(\"It is not palindrome\") #hello "
   ]
  },
  {
   "cell_type": "markdown",
   "metadata": {},
   "source": [
    "# python program to remove punctuations from a string "
   ]
  },
  {
   "cell_type": "code",
   "execution_count": null,
   "metadata": {},
   "outputs": [],
   "source": [
    "punc = \" '\"\"!.()-[]:;\\,<>\\?@#$%^&*_~  \"\n",
    "string =input(\"Enter Anything here :\") #Hello !!!   how are you???   I am fine...\n",
    "emtpty_str = \"\"\n",
    "for i in string:\n",
    "    if i not in punc :\n",
    "        emtpty_str += i\n",
    "\n",
    "print(emtpty_str)"
   ]
  },
  {
   "cell_type": "markdown",
   "metadata": {},
   "source": [
    "# python program to multiply tow matrices"
   ]
  },
  {
   "cell_type": "code",
   "execution_count": 17,
   "metadata": {},
   "outputs": [
    {
     "name": "stdout",
     "output_type": "stream",
     "text": [
      "[27, 15, 15, 8]\n",
      "[60, 36, 33, 20]\n",
      "[93, 57, 51, 32]\n"
     ]
    }
   ],
   "source": [
    "A = [  [ 1,2,3],\n",
    "       [ 4,5,6 ],\n",
    "       [ 7,8,9 ]  ]\n",
    "\n",
    "B = [  [ 1,2,1,1 ],\n",
    "       [ 4,2,1,2 ],\n",
    "       [ 6,3,4,1 ]  ]\n",
    "\n",
    "result = [ [0,0,0,0],\n",
    "           [0,0,0,0],\n",
    "           [0,0,0,0]  ]\n",
    "\n",
    "for i in range(len(A)):\n",
    "    for j in range(len(B[0])):\n",
    "        for k in range(len(B)):\n",
    "            result[i][j] += A [i][k] * B [k][j]\n",
    "for r in result:\n",
    "    print(r)"
   ]
  },
  {
   "cell_type": "markdown",
   "metadata": {},
   "source": [
    "# python program to sort words in Alphabetic Order "
   ]
  },
  {
   "cell_type": "code",
   "execution_count": 21,
   "metadata": {},
   "outputs": [
    {
     "name": "stdout",
     "output_type": "stream",
     "text": [
      "['Harry', 'Potter', 'And', 'The', 'Of', 'Fire']\n",
      "['harry', 'potter', 'and', 'the', 'of', 'fire']\n",
      "['and', 'fire', 'harry', 'of', 'potter', 'the']\n"
     ]
    }
   ],
   "source": [
    "# solution 1 using string funtions and for loop \n",
    "a = \"Harry Potter And The Of Fire\"\n",
    "w = a.split()\n",
    "print(w)\n",
    "for i in range (len(w)):\n",
    "    w [i] = w [i].lower()\n",
    "print (w)\n",
    "w.sort()\n",
    "print (w)\n"
   ]
  },
  {
   "cell_type": "code",
   "execution_count": 24,
   "metadata": {},
   "outputs": [
    {
     "name": "stdout",
     "output_type": "stream",
     "text": [
      "and\n",
      "fire\n",
      "harry\n",
      "of\n",
      "potter\n",
      "the\n"
     ]
    }
   ],
   "source": [
    "for i in w :\n",
    "    print (i)"
   ]
  },
  {
   "cell_type": "markdown",
   "metadata": {},
   "source": [
    "# python program to lllustrate Different set Operation"
   ]
  },
  {
   "cell_type": "code",
   "execution_count": 25,
   "metadata": {},
   "outputs": [
    {
     "name": "stdout",
     "output_type": "stream",
     "text": [
      "the union is {1, 2, 3, 4, 5, 6, 7, 8, 9}\n",
      "the intersection is {8, 3, 6}\n",
      "the diffierence is {1, 2, 9}\n",
      "the symmetric difference is {1, 2, 4, 5, 7, 9}\n"
     ]
    }
   ],
   "source": [
    "x = {1,2,3,6,8,9}\n",
    "y = {3,4,5,6,7,8}\n",
    "print(\"the union is\", x | y )\n",
    "print(\"the intersection is\", x & y)\n",
    "print(\"the diffierence is\", x - y )\n",
    "print(\"the symmetric difference is\", x ^ y)"
   ]
  }
 ],
 "metadata": {
  "kernelspec": {
   "display_name": "myenv",
   "language": "python",
   "name": "python3"
  },
  "language_info": {
   "codemirror_mode": {
    "name": "ipython",
    "version": 3
   },
   "file_extension": ".py",
   "mimetype": "text/x-python",
   "name": "python",
   "nbconvert_exporter": "python",
   "pygments_lexer": "ipython3",
   "version": "3.13.1"
  }
 },
 "nbformat": 4,
 "nbformat_minor": 2
}
