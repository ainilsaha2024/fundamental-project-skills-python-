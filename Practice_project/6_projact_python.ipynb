{
 "cells": [
  {
   "cell_type": "markdown",
   "metadata": {},
   "source": [
    "# Python program to copy a file "
   ]
  },
  {
   "cell_type": "code",
   "execution_count": 1,
   "metadata": {},
   "outputs": [],
   "source": [
    "from shutil import copyfile #module\n",
    "#demo = (\"use_6_projact_python.txt\")\n",
    "#copyfile(demo)\n"
   ]
  },
  {
   "cell_type": "markdown",
   "metadata": {},
   "source": [
    "# Python program to concatenate Tow lists "
   ]
  },
  {
   "cell_type": "code",
   "execution_count": null,
   "metadata": {},
   "outputs": [
    {
     "name": "stdout",
     "output_type": "stream",
     "text": [
      "[3, 6, 8, 2, 'a', 'j', 3, 6, 'k', 'f', 'j']\n"
     ]
    }
   ],
   "source": [
    "#solution 1 using + operator \n",
    "l1 = [3,6,8,2,\"a\",\"j\"]\n",
    "l2 = [3,6,\"k\",\"f\",\"j\"]\n",
    "ll = l1 + l2\n",
    "print(ll)"
   ]
  },
  {
   "cell_type": "code",
   "execution_count": 5,
   "metadata": {},
   "outputs": [
    {
     "name": "stdout",
     "output_type": "stream",
     "text": [
      "['a', 2, 3, 6, 8, 'k', 'f', 'j']\n"
     ]
    }
   ],
   "source": [
    "#solution 2 with unique values \n",
    "l1 = [3,6,8,2,\"a\",\"j\"]\n",
    "l2 = [3,6,\"k\",\"f\",\"j\"]\n",
    "l3 =list(set(l1 + l2))\n",
    "print(l3)"
   ]
  },
  {
   "cell_type": "code",
   "execution_count": 6,
   "metadata": {},
   "outputs": [
    {
     "name": "stdout",
     "output_type": "stream",
     "text": [
      "[3, 6, 8, 2, 'a', 'j', 3, 6, 'k', 'f', 'j']\n"
     ]
    }
   ],
   "source": [
    "#solution 3 using extend () function \n",
    "l1 = [3,6,8,2,\"a\",\"j\"]\n",
    "l2 = [3,6,\"k\",\"f\",\"j\"]\n",
    "l1.extend(l2)\n",
    "print(l1)"
   ]
  },
  {
   "cell_type": "markdown",
   "metadata": {},
   "source": [
    "# Python program to cheack if a key is already present in dictionary "
   ]
  },
  {
   "cell_type": "code",
   "execution_count": null,
   "metadata": {},
   "outputs": [
    {
     "name": "stdout",
     "output_type": "stream",
     "text": [
      "it is present\n"
     ]
    }
   ],
   "source": [
    "friends = {\"Rachel\":\"Ross\",\"Monica\":\"Chandler\",\"Phoebe\":\"Joe\"}\n",
    "name =input(\"enter a key here :\")\n",
    "if name in friends.keys():\n",
    "    print(\"it is present\") #Monica\n",
    "else:\n",
    "    if name != friends.keys():\n",
    "        print(\"No name present\")#nil"
   ]
  },
  {
   "cell_type": "markdown",
   "metadata": {},
   "source": [
    "# Python program to parse a string to a Float or int"
   ]
  },
  {
   "cell_type": "code",
   "execution_count": 14,
   "metadata": {},
   "outputs": [
    {
     "name": "stdout",
     "output_type": "stream",
     "text": [
      "<class 'str'>\n",
      "<class 'int'>\n"
     ]
    }
   ],
   "source": [
    "#solution 1 parse string into Integer \n",
    "string =\"12345\"\n",
    "print(type(string))\n",
    "int_string = int(string)\n",
    "print(type(int_string))"
   ]
  },
  {
   "cell_type": "code",
   "execution_count": 2,
   "metadata": {},
   "outputs": [
    {
     "name": "stdout",
     "output_type": "stream",
     "text": [
      "<class 'str'>\n",
      "3.1415\n"
     ]
    }
   ],
   "source": [
    "#solution 2 parse string into float \n",
    "string = \"3.1415\"\n",
    "print(type(string))\n",
    "print(float(string))\n"
   ]
  },
  {
   "cell_type": "code",
   "execution_count": 5,
   "metadata": {},
   "outputs": [
    {
     "name": "stdout",
     "output_type": "stream",
     "text": [
      "<class 'str'>\n",
      "<class 'int'>\n",
      "3\n"
     ]
    }
   ],
   "source": [
    "#solution 3 parse string float number into integer \n",
    "string=\"3.1415\"\n",
    "print(type(string))\n",
    "str_float_int = int(float(string))\n",
    "print(type(str_float_int))\n",
    "print(str_float_int)"
   ]
  },
  {
   "cell_type": "markdown",
   "metadata": {},
   "source": [
    "# Python program to convert string to datetime "
   ]
  },
  {
   "cell_type": "code",
   "execution_count": 15,
   "metadata": {},
   "outputs": [
    {
     "name": "stdout",
     "output_type": "stream",
     "text": [
      "2025-02-16 00:00:00\n",
      "<class 'str'>\n"
     ]
    }
   ],
   "source": [
    "#solution 1 using datetime Module\n",
    "from datetime import datetime\n",
    "date= \"feb 16 2025\"\n",
    "date_time = datetime.strptime(date,\"%b %d %Y\")\n",
    "print(date_time)\n",
    "print(type(date))"
   ]
  },
  {
   "cell_type": "code",
   "execution_count": 18,
   "metadata": {},
   "outputs": [
    {
     "name": "stdout",
     "output_type": "stream",
     "text": [
      "2025-02-16 17:30:00\n"
     ]
    }
   ],
   "source": [
    "#solution 2 using daeutil Module \n",
    "from dateutil import parser\n",
    "\n",
    "date_time =parser.parse(\"Feb 16 2025 5:30PM\")\n",
    "print(date_time)"
   ]
  },
  {
   "cell_type": "markdown",
   "metadata": {},
   "source": [
    "# python program to get the last element of the list "
   ]
  },
  {
   "cell_type": "code",
   "execution_count": 19,
   "metadata": {},
   "outputs": [
    {
     "name": "stdout",
     "output_type": "stream",
     "text": [
      "Captain America\n"
     ]
    }
   ],
   "source": [
    "a = ['ironman','Hulk',\"Thor\",\"Vision\",\"Captain America\"]\n",
    "print(a[-1])"
   ]
  },
  {
   "cell_type": "markdown",
   "metadata": {},
   "source": [
    "# python program to get a substring of a string "
   ]
  },
  {
   "cell_type": "code",
   "execution_count": 4,
   "metadata": {},
   "outputs": [
    {
     "name": "stdout",
     "output_type": "stream",
     "text": [
      "31\n",
      "Harry Potter and Goblet of Fine\n"
     ]
    }
   ],
   "source": [
    "x = \"Harry Potter and Goblet of Fine\"\n",
    "print(len(x))\n",
    "print(x[0:31])"
   ]
  },
  {
   "cell_type": "markdown",
   "metadata": {},
   "source": [
    "# Python program to print output without a newline"
   ]
  },
  {
   "cell_type": "code",
   "execution_count": 6,
   "metadata": {},
   "outputs": [
    {
     "name": "stdout",
     "output_type": "stream",
     "text": [
      "harrp potter and the goblet of fine\n"
     ]
    }
   ],
   "source": [
    "print(\"harrp potter\", end = \" \")\n",
    "print(\"and the goblet of fine\")"
   ]
  },
  {
   "cell_type": "markdown",
   "metadata": {},
   "source": [
    "# How to cheak if a string is a valid keyword in python "
   ]
  },
  {
   "cell_type": "code",
   "execution_count": 8,
   "metadata": {},
   "outputs": [
    {
     "name": "stdout",
     "output_type": "stream",
     "text": [
      "break is a keyword in python\n",
      "john is not a keyword in python\n",
      "three is not a keyword in python\n",
      "continue is a keyword in python\n",
      "lambda is a keyword in python\n",
      "global is a keyword in python\n",
      "peter is not a keyword in python\n",
      "for is a keyword in python\n",
      "while is a keyword in python\n",
      "string is not a keyword in python\n",
      "number is not a keyword in python\n"
     ]
    }
   ],
   "source": [
    "import keyword \n",
    "\n",
    "words =[\"break\",\"john\",\"three\",\"continue\",\"lambda\",\n",
    "        \"global\",\"peter\",\"for\",\"while\",\"string\",\"number\"]\n",
    "for i in range (len(words)):\n",
    "    if keyword.iskeyword(words[i]):\n",
    "        print(words[i],\"is a keyword in python\")\n",
    "    else:\n",
    "        print(words[i],\"is not a keyword in python\")\n",
    "\n"
   ]
  },
  {
   "cell_type": "code",
   "execution_count": 10,
   "metadata": {},
   "outputs": [
    {
     "name": "stdout",
     "output_type": "stream",
     "text": [
      "False\n",
      "None\n",
      "True\n",
      "and\n",
      "as\n",
      "assert\n",
      "async\n",
      "await\n",
      "break\n",
      "class\n",
      "continue\n",
      "def\n",
      "del\n",
      "elif\n",
      "else\n",
      "except\n",
      "finally\n",
      "for\n",
      "from\n",
      "global\n",
      "if\n",
      "import\n",
      "in\n",
      "is\n",
      "lambda\n",
      "nonlocal\n",
      "not\n",
      "or\n",
      "pass\n",
      "raise\n",
      "return\n",
      "try\n",
      "while\n",
      "with\n",
      "yield\n"
     ]
    }
   ],
   "source": [
    "for i in keyword.kwlist:\n",
    "    print(i)"
   ]
  },
  {
   "cell_type": "markdown",
   "metadata": {},
   "source": [
    "# python iterators along with next function "
   ]
  },
  {
   "cell_type": "code",
   "execution_count": 12,
   "metadata": {},
   "outputs": [
    {
     "name": "stdout",
     "output_type": "stream",
     "text": [
      "1\n"
     ]
    }
   ],
   "source": [
    "nums =[1,2,3,4,5,6,7,8,9]\n",
    "iterate = iter(nums)\n",
    "print(iterate.__next__())"
   ]
  },
  {
   "cell_type": "code",
   "execution_count": 14,
   "metadata": {},
   "outputs": [
    {
     "name": "stdout",
     "output_type": "stream",
     "text": [
      "2\n"
     ]
    }
   ],
   "source": [
    "print(iterate.__next__())"
   ]
  },
  {
   "cell_type": "code",
   "execution_count": 15,
   "metadata": {},
   "outputs": [
    {
     "name": "stdout",
     "output_type": "stream",
     "text": [
      "3\n"
     ]
    }
   ],
   "source": [
    "print(iterate.__next__())"
   ]
  },
  {
   "cell_type": "code",
   "execution_count": 16,
   "metadata": {},
   "outputs": [
    {
     "name": "stdout",
     "output_type": "stream",
     "text": [
      "4\n"
     ]
    }
   ],
   "source": [
    "print(iterate.__next__())"
   ]
  },
  {
   "cell_type": "code",
   "execution_count": 17,
   "metadata": {},
   "outputs": [
    {
     "name": "stdout",
     "output_type": "stream",
     "text": [
      "5\n"
     ]
    }
   ],
   "source": [
    "print(iterate.__next__())"
   ]
  },
  {
   "cell_type": "code",
   "execution_count": 25,
   "metadata": {},
   "outputs": [
    {
     "name": "stdout",
     "output_type": "stream",
     "text": [
      "h\n",
      "i\n",
      " \n",
      "h\n",
      "o\n",
      "w\n",
      " \n",
      "a\n",
      "r\n",
      "e\n",
      " \n",
      "y\n",
      "o\n",
      "u\n",
      " \n",
      "?\n"
     ]
    }
   ],
   "source": [
    "A = \"hi how are you ?\"\n",
    "for i in A:\n",
    "    print(i)"
   ]
  },
  {
   "cell_type": "code",
   "execution_count": 27,
   "metadata": {},
   "outputs": [
    {
     "name": "stdout",
     "output_type": "stream",
     "text": [
      "i\n"
     ]
    }
   ],
   "source": [
    "ml = \"i love ai\"\n",
    "y = iter(ml)\n",
    "print(y.__next__())"
   ]
  },
  {
   "cell_type": "code",
   "execution_count": 29,
   "metadata": {},
   "outputs": [
    {
     "name": "stdout",
     "output_type": "stream",
     "text": [
      "l\n"
     ]
    }
   ],
   "source": [
    "print(y.__next__())"
   ]
  },
  {
   "cell_type": "code",
   "execution_count": 30,
   "metadata": {},
   "outputs": [
    {
     "name": "stdout",
     "output_type": "stream",
     "text": [
      "o\n"
     ]
    }
   ],
   "source": [
    "print(y.__next__())"
   ]
  },
  {
   "cell_type": "code",
   "execution_count": 31,
   "metadata": {},
   "outputs": [
    {
     "name": "stdout",
     "output_type": "stream",
     "text": [
      "v\n"
     ]
    }
   ],
   "source": [
    "print(y.__next__())"
   ]
  },
  {
   "cell_type": "code",
   "execution_count": 34,
   "metadata": {},
   "outputs": [],
   "source": [
    "class fantastic_five:\n",
    "    def __init__(self):\n",
    "        self.num = 1\n",
    "\n",
    "    def __iter__(self):\n",
    "        return self\n",
    "    \n",
    "    def __next__(self):\n",
    "        if self.num <=5:\n",
    "            value =self.num\n",
    "            self.num += 1\n",
    "\n",
    "        else:\n",
    "            raise StopIteration\n",
    "        \n"
   ]
  },
  {
   "cell_type": "code",
   "execution_count": 40,
   "metadata": {},
   "outputs": [
    {
     "name": "stdout",
     "output_type": "stream",
     "text": [
      "None\n",
      "None\n",
      "None\n",
      "None\n",
      "None\n"
     ]
    }
   ],
   "source": [
    "ff = fantastic_five()\n",
    "\n",
    "for i in ff:\n",
    "    print(i)"
   ]
  }
 ],
 "metadata": {
  "kernelspec": {
   "display_name": "myenv",
   "language": "python",
   "name": "python3"
  },
  "language_info": {
   "codemirror_mode": {
    "name": "ipython",
    "version": 3
   },
   "file_extension": ".py",
   "mimetype": "text/x-python",
   "name": "python",
   "nbconvert_exporter": "python",
   "pygments_lexer": "ipython3",
   "version": "3.13.1"
  }
 },
 "nbformat": 4,
 "nbformat_minor": 2
}
