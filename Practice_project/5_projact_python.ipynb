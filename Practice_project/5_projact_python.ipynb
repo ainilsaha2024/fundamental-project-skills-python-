{
 "cells": [
  {
   "cell_type": "markdown",
   "metadata": {},
   "source": [
    "# Python program to count the number of Each Vowel"
   ]
  },
  {
   "cell_type": "code",
   "execution_count": 4,
   "metadata": {},
   "outputs": [
    {
     "name": "stdout",
     "output_type": "stream",
     "text": [
      "harry potter and the prisoner of azkaban\n",
      "{'a': 0, 'e': 0, 'i': 0, 'o': 0, 'u': 0}\n",
      "{'a': 5, 'e': 3, 'i': 1, 'o': 3, 'u': 0}\n"
     ]
    }
   ],
   "source": [
    "# Solution 1 using Dictionary \n",
    "a = \"Harry Potter and the Prisoner of Azkaban\"\n",
    "vowels = \"aeiou\"\n",
    "a = a.casefold()\n",
    "print(a)\n",
    "\n",
    "count ={}.fromkeys(vowels,0)\n",
    "print(count)\n",
    "for char in a :\n",
    "    if char in count:\n",
    "        count[char]+=1\n",
    "\n",
    "print(count)"
   ]
  },
  {
   "cell_type": "code",
   "execution_count": 5,
   "metadata": {},
   "outputs": [
    {
     "name": "stdout",
     "output_type": "stream",
     "text": [
      "{'a': 5, 'e': 3, 'i': 1, 'o': 3, 'u': 0}\n"
     ]
    }
   ],
   "source": [
    "#solution 2 using list and dictionary comprehension\n",
    "b = \"Harry Potter and the Prisoner of Azkaban\"\n",
    "vowels = \"aeiou\"\n",
    "b = b.casefold() \n",
    "count = { key : sum ([1 for char in a if char == key ]) for key in vowels }\n",
    "print(count)"
   ]
  },
  {
   "cell_type": "markdown",
   "metadata": {},
   "source": [
    "# python program to find the size (Resolution) of a image "
   ]
  },
  {
   "cell_type": "code",
   "execution_count": 20,
   "metadata": {},
   "outputs": [
    {
     "name": "stdout",
     "output_type": "stream",
     "text": [
      "474 X 269\n"
     ]
    }
   ],
   "source": [
    "import PIL #module\n",
    "img = PIL.Image.open('use_5_projact_python.jpg')\n",
    "width , height = img.size \n",
    "print(width,\"X\",height)"
   ]
  },
  {
   "cell_type": "markdown",
   "metadata": {},
   "source": [
    "# Python program to merge tow dictionarics"
   ]
  },
  {
   "cell_type": "code",
   "execution_count": 22,
   "metadata": {},
   "outputs": [
    {
     "name": "stdout",
     "output_type": "stream",
     "text": [
      "{'john': 89, 'lisa': 94, 'peter': 78}\n"
     ]
    }
   ],
   "source": [
    "# solution 1 using operator \n",
    "dict1 = {\"john\":89 , \"lisa\":99}\n",
    "dict2 ={\"lisa\":94 , \"peter\":78}\n",
    "print(dict1 | dict2 )"
   ]
  },
  {
   "cell_type": "code",
   "execution_count": 23,
   "metadata": {},
   "outputs": [
    {
     "name": "stdout",
     "output_type": "stream",
     "text": [
      "{'john': 89, 'lisa': 94, 'peter': 78}\n"
     ]
    }
   ],
   "source": [
    "# solution 2 using ** operator \n",
    "dict1 = {\"john\":89 , \"lisa\":99}\n",
    "dict2 ={\"lisa\":94 , \"peter\":78}\n",
    "print({**dict1,**dict2})"
   ]
  },
  {
   "cell_type": "code",
   "execution_count": 25,
   "metadata": {},
   "outputs": [
    {
     "name": "stdout",
     "output_type": "stream",
     "text": [
      "{'lisa': 99, 'peter': 78, 'john': 89}\n"
     ]
    }
   ],
   "source": [
    "# solution 23 using copy() and update() mathods \n",
    "dict1 = {\"john\":89 , \"lisa\":99}\n",
    "dict2 ={\"lisa\":94 , \"peter\":78}\n",
    "dict3 = dict2.copy()\n",
    "dict3.update(dict1)\n",
    "print(dict3)"
   ]
  },
  {
   "cell_type": "markdown",
   "metadata": {},
   "source": [
    "# python program to safely create a nested Directory"
   ]
  },
  {
   "cell_type": "code",
   "execution_count": null,
   "metadata": {},
   "outputs": [],
   "source": [
    "from pathlib import path #module\n",
    "\n",
    "path(\"type your local machine location name and see result new\").mack(parents=True,exist_ok=True)"
   ]
  },
  {
   "cell_type": "markdown",
   "metadata": {},
   "source": [
    "# Python program to access Index of a list Using for loop "
   ]
  },
  {
   "cell_type": "code",
   "execution_count": 3,
   "metadata": {},
   "outputs": [
    {
     "name": "stdout",
     "output_type": "stream",
     "text": [
      "1 - 34\n",
      "2 - 5\n",
      "3 - 61\n",
      "4 - 54\n",
      "5 - 89\n"
     ]
    }
   ],
   "source": [
    "# solution 1 using enumerate mathods \n",
    "l = [34,5,61,54,89]\n",
    "for index , value in enumerate(l, start= 1):\n",
    "    print(index ,\"-\", value)\n"
   ]
  },
  {
   "cell_type": "code",
   "execution_count": 7,
   "metadata": {},
   "outputs": [
    {
     "name": "stdout",
     "output_type": "stream",
     "text": [
      "l variable index 3  value =  54\n",
      "0 34\n",
      "1 4\n",
      "2 61\n",
      "3 54\n",
      "4 89\n"
     ]
    }
   ],
   "source": [
    "# solution 2 not using enumerate mathods \n",
    "l = [34,4,61,54,89]\n",
    "print(\"l variable index 3  value = \", l[3])\n",
    "for index in range (len(l)):\n",
    "    value =l[index]\n",
    "    print(index,value)\n"
   ]
  },
  {
   "cell_type": "markdown",
   "metadata": {},
   "source": [
    "# what is slicing on list in python - explanained with example"
   ]
  },
  {
   "cell_type": "code",
   "execution_count": 12,
   "metadata": {},
   "outputs": [
    {
     "name": "stdout",
     "output_type": "stream",
     "text": [
      "jeo\n",
      "['jeo', 'rachel', 'monica', 'phoebe', 'ross', 'chandler']\n",
      "['jeo', 'rachel', 'monica']\n",
      "['monica', 'phoebe', 'ross', 'chandler']\n",
      "['jeo', 'monica', 'ross']\n",
      "['chandler', 'ross', 'phoebe', 'monica', 'rachel', 'jeo']\n"
     ]
    }
   ],
   "source": [
    "a =[ \"jeo\",\"rachel\",\"monica\",\"phoebe\",\"ross\",\"chandler\"]\n",
    "print(a[-6])\n",
    "print(a[::])# not define start : end \n",
    "print(a[:3])#start index 0 : end 3 \n",
    "print(a[2:])#start 2 : end last index \n",
    "print(a[::2])# start :: gap 2 indexing \n",
    "print(a[::-1])\n"
   ]
  },
  {
   "cell_type": "markdown",
   "metadata": {},
   "source": [
    "# python program to iterate over dictionaries using for loop "
   ]
  },
  {
   "cell_type": "code",
   "execution_count": null,
   "metadata": {},
   "outputs": [
    {
     "name": "stdout",
     "output_type": "stream",
     "text": [
      "{'Rachel': 'Ross', 'Monica': 'Chandler', 'phoebe': 'joe'}\n",
      "Rachel Ross\n",
      "Monica Chandler\n",
      "phoebe joe\n"
     ]
    }
   ],
   "source": [
    "friends = {\"Rachel\":\"Ross\",\"Monica\":\"Chandler\",\"phoebe\":\"joe\"}\n",
    "print(friends)\n",
    "#solution 1 with . items \n",
    "\n",
    "for key , value in friends.items():\n",
    "    print(key,value)\n"
   ]
  },
  {
   "cell_type": "code",
   "execution_count": 24,
   "metadata": {},
   "outputs": [
    {
     "name": "stdout",
     "output_type": "stream",
     "text": [
      "Rachel : Ross\n",
      "Monica : Chandler\n",
      "phoebe : joe\n"
     ]
    }
   ],
   "source": [
    "#solution 2 with keys \n",
    "for key in friends:\n",
    "    print(key,\":\",friends[key])"
   ]
  },
  {
   "cell_type": "code",
   "execution_count": 26,
   "metadata": {},
   "outputs": [
    {
     "name": "stdout",
     "output_type": "stream",
     "text": [
      "Rachel\n",
      "Monica\n",
      "phoebe\n",
      "Ross\n",
      "Chandler\n",
      "joe\n"
     ]
    }
   ],
   "source": [
    "\n",
    "#solution 3 with keys and value \n",
    "for j in friends.keys():\n",
    "    print(j)\n",
    "for i in friends.values():\n",
    "    print(i)"
   ]
  },
  {
   "cell_type": "markdown",
   "metadata": {},
   "source": [
    "# python program to sort a dictionary by value-explained"
   ]
  },
  {
   "cell_type": "code",
   "execution_count": 5,
   "metadata": {},
   "outputs": [
    {
     "name": "stdout",
     "output_type": "stream",
     "text": [
      "{'john': 23, 'lisa': 56, 'sid': 48}\n",
      "[('john', 23), ('sid', 48), ('lisa', 56)]\n"
     ]
    }
   ],
   "source": [
    "marks = { \"john\":23 , \"lisa\":56, \"sid\":48}\n",
    "print(marks)\n",
    "#solution 1 (sort the dictionary based on values)\n",
    "sv =sorted(marks.items(),key = lambda x : x [1])\n",
    "print(sv)"
   ]
  },
  {
   "cell_type": "code",
   "execution_count": 6,
   "metadata": {},
   "outputs": [
    {
     "name": "stdout",
     "output_type": "stream",
     "text": [
      "[23, 48, 56]\n"
     ]
    }
   ],
   "source": [
    "#solution 2 (sory only the values)\n",
    "v = sorted(marks.values())\n",
    "print(v)"
   ]
  },
  {
   "cell_type": "code",
   "execution_count": 8,
   "metadata": {},
   "outputs": [
    {
     "name": "stdout",
     "output_type": "stream",
     "text": [
      "['john', 'lisa', 'sid']\n"
     ]
    }
   ],
   "source": [
    "k =sorted(marks.keys())\n",
    "print(k)"
   ]
  },
  {
   "cell_type": "markdown",
   "metadata": {},
   "source": [
    "# python program to check if a list empty "
   ]
  },
  {
   "cell_type": "code",
   "execution_count": 9,
   "metadata": {},
   "outputs": [
    {
     "name": "stdout",
     "output_type": "stream",
     "text": [
      "The list is empty\n"
     ]
    }
   ],
   "source": [
    "#solution 1 using boolean operation \n",
    "my_list = []\n",
    "if not my_list:\n",
    "    print(\"The list is empty\")"
   ]
  },
  {
   "cell_type": "code",
   "execution_count": 10,
   "metadata": {},
   "outputs": [
    {
     "name": "stdout",
     "output_type": "stream",
     "text": [
      "0\n",
      "the list is empty\n"
     ]
    }
   ],
   "source": [
    "#solution 2 using len() function \n",
    "my_list1 = []\n",
    "print(len(my_list1))\n",
    "if len(my_list1) == 0 :\n",
    "    print(\"the list is empty\")"
   ]
  },
  {
   "cell_type": "code",
   "execution_count": 11,
   "metadata": {},
   "outputs": [
    {
     "name": "stdout",
     "output_type": "stream",
     "text": [
      "the list is empty\n"
     ]
    }
   ],
   "source": [
    "#solution 3 using []\n",
    "my_list2 = []\n",
    "if my_list2 == []:\n",
    "    print(\"the list is empty\")"
   ]
  },
  {
   "cell_type": "markdown",
   "metadata": {},
   "source": [
    "# python program to catch multiple exceptions in one line "
   ]
  },
  {
   "cell_type": "code",
   "execution_count": 16,
   "metadata": {},
   "outputs": [
    {
     "name": "stdout",
     "output_type": "stream",
     "text": [
      "invalid literal for int() with base 10: 'hello'\n",
      "Thank You\n"
     ]
    }
   ],
   "source": [
    "string =input(\"enter something here :\")\n",
    "try:\n",
    "    num =int(input(\"enter a number here :\"))\n",
    "    print(string + num)\n",
    "except(ValueError,TypeError) as a:\n",
    "    print (a)\n",
    "print(\"Thank You\")"
   ]
  }
 ],
 "metadata": {
  "kernelspec": {
   "display_name": "myenv",
   "language": "python",
   "name": "python3"
  },
  "language_info": {
   "codemirror_mode": {
    "name": "ipython",
    "version": 3
   },
   "file_extension": ".py",
   "mimetype": "text/x-python",
   "name": "python",
   "nbconvert_exporter": "python",
   "pygments_lexer": "ipython3",
   "version": "3.13.1"
  }
 },
 "nbformat": 4,
 "nbformat_minor": 2
}
