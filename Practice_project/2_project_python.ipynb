{
 "cells": [
  {
   "cell_type": "markdown",
   "metadata": {},
   "source": [
    "# Python program to check prime Number ?\n"
   ]
  },
  {
   "cell_type": "code",
   "execution_count": 17,
   "metadata": {},
   "outputs": [
    {
     "name": "stdout",
     "output_type": "stream",
     "text": [
      "it is a prime number\n"
     ]
    }
   ],
   "source": [
    "num_prime =int(input(\"enter a number here:\"))\n",
    "if num_prime == 1: \n",
    "    print(\"it is not a prime number\")\n",
    "if num_prime > 1:\n",
    "    for i in range (2,num_prime):\n",
    "        if num_prime % i == 0 :\n",
    "            print (\"it is not a prime number\") # 6  6/1= 6 6/2=3 6/3=2 \n",
    "            break\n",
    "\n",
    "    else:\n",
    "        print (\"it is a prime number\") #5  5/1=5 "
   ]
  },
  {
   "cell_type": "markdown",
   "metadata": {},
   "source": [
    "# python program to Generate a rendom number ? "
   ]
  },
  {
   "cell_type": "code",
   "execution_count": 95,
   "metadata": {},
   "outputs": [
    {
     "name": "stdout",
     "output_type": "stream",
     "text": [
      "98\n"
     ]
    }
   ],
   "source": [
    "import random #module\n",
    "\n",
    "random_num = random.randint(0,100)\n",
    "print(random_num)\n"
   ]
  },
  {
   "cell_type": "markdown",
   "metadata": {},
   "source": [
    "# python program to print all prime number in an interval ?"
   ]
  },
  {
   "cell_type": "code",
   "execution_count": null,
   "metadata": {},
   "outputs": [
    {
     "name": "stdout",
     "output_type": "stream",
     "text": [
      "2\n",
      "3\n",
      "5\n",
      "7\n",
      "11\n",
      "13\n",
      "17\n",
      "19\n",
      "23\n",
      "29\n",
      "31\n",
      "37\n",
      "41\n",
      "43\n",
      "47\n"
     ]
    }
   ],
   "source": [
    "lower = int(input(\"enter lower limit here:\")) #2\n",
    "upper =int(input(\"enter upper limit here:\")) #50\n",
    "\n",
    "for num in range (lower,upper + 1):\n",
    "    if num > 1 :\n",
    "        for i in range (2,num):\n",
    "            if num % i == 0:\n",
    "                break \n",
    "        else:\n",
    "            print(num)"
   ]
  },
  {
   "cell_type": "markdown",
   "metadata": {},
   "source": [
    "# program to convert celsius to fahrenherit ?"
   ]
  },
  {
   "cell_type": "code",
   "execution_count": 9,
   "metadata": {},
   "outputs": [
    {
     "name": "stdout",
     "output_type": "stream",
     "text": [
      "The converted value is  104.0 fahrenheit\n"
     ]
    }
   ],
   "source": [
    "celsius = int(input(\"enter temperature in celsius:\"))\n",
    "\n",
    "fahrenheit =(celsius * (1.8) ) + 32 \n",
    "\n",
    "print(\"The converted value is \", fahrenheit , \"fahrenheit\") #40c"
   ]
  },
  {
   "cell_type": "markdown",
   "metadata": {},
   "source": [
    "# Python program to find the factorial of a number ?"
   ]
  },
  {
   "cell_type": "code",
   "execution_count": 13,
   "metadata": {},
   "outputs": [
    {
     "name": "stdout",
     "output_type": "stream",
     "text": [
      "The factorial of the given number is 120\n"
     ]
    }
   ],
   "source": [
    "#solution-1 using for loop \n",
    "fact_num = int(input(\"enter a number here:\")) # 5! = 120 \n",
    "fact = 1 \n",
    "if fact_num < 0 :\n",
    "    print (\"factorial of 0 dose not exist\")\n",
    "if fact_num == 0 :\n",
    "    print (\"factorial of 0 is\", 1 )\n",
    "if fact_num > 0 : \n",
    "    for i in range ( 1 ,fact_num + 1):\n",
    "        fact = fact * i \n",
    "print(\"The factorial of the given number is\",fact)"
   ]
  },
  {
   "cell_type": "code",
   "execution_count": 18,
   "metadata": {},
   "outputs": [],
   "source": [
    "#solution-2 using recursion \n",
    "def fact(a):\n",
    "    if a == 0 :\n",
    "        return 1 \n",
    "    else :\n",
    "        return ((a)*fact(a-1))"
   ]
  },
  {
   "cell_type": "code",
   "execution_count": 21,
   "metadata": {},
   "outputs": [
    {
     "name": "stdout",
     "output_type": "stream",
     "text": [
      "the factorial of the given number is 120\n"
     ]
    }
   ],
   "source": [
    "f_num = int(input(\"enter a number here:\"))\n",
    "result = fact(f_num)\n",
    "print(\"the factorial of the given number is\",result)"
   ]
  },
  {
   "cell_type": "markdown",
   "metadata": {},
   "source": [
    "# python program to display the multiplication table ?"
   ]
  },
  {
   "cell_type": "code",
   "execution_count": 1,
   "metadata": {},
   "outputs": [
    {
     "name": "stdout",
     "output_type": "stream",
     "text": [
      "10 x 1 = 10\n",
      "10 x 2 = 20\n",
      "10 x 3 = 30\n",
      "10 x 4 = 40\n",
      "10 x 5 = 50\n",
      "10 x 6 = 60\n",
      "10 x 7 = 70\n",
      "10 x 8 = 80\n",
      "10 x 9 = 90\n",
      "10 x 10 = 100\n"
     ]
    }
   ],
   "source": [
    "#solution 1 with for loop \n",
    "n = int(input(\"enter a number here:\"))\n",
    "for i in range (1,11):\n",
    "    print(n,\"x\",i, \"=\",n*i)"
   ]
  },
  {
   "cell_type": "code",
   "execution_count": 4,
   "metadata": {},
   "outputs": [
    {
     "name": "stdout",
     "output_type": "stream",
     "text": [
      "7 x 1 = 7\n",
      "7 x 2 = 14\n",
      "7 x 3 = 21\n",
      "7 x 4 = 28\n",
      "7 x 5 = 35\n",
      "7 x 6 = 42\n",
      "7 x 7 = 49\n",
      "7 x 8 = 56\n",
      "7 x 9 = 63\n",
      "7 x 10 = 70\n"
     ]
    }
   ],
   "source": [
    "# solution - 2 using while loop \n",
    "m =int(input(\"enter your number here :\"))\n",
    "i = 1 \n",
    "while i <= 10 :\n",
    "    print (m,\"x\",i,\"=\",m*i)\n",
    "    i += 1"
   ]
  },
  {
   "cell_type": "markdown",
   "metadata": {},
   "source": [
    "# Python program to print the fibonacci sequence "
   ]
  },
  {
   "cell_type": "code",
   "execution_count": 11,
   "metadata": {},
   "outputs": [
    {
     "name": "stdout",
     "output_type": "stream",
     "text": [
      "0\n",
      "1\n",
      "1\n",
      "2\n",
      "3\n",
      "5\n",
      "8\n",
      "13\n",
      "21\n"
     ]
    }
   ],
   "source": [
    "a = 0 \n",
    "b = 1 \n",
    "num_fibo = int(input(\"enter a number to obtain fibonacci sqeuence:\"))\n",
    "\n",
    "if num_fibo == 1 :\n",
    "    print(a)\n",
    "else:\n",
    "    print(a)\n",
    "    print(b)\n",
    "    for i in range ( 1, num_fibo +1):\n",
    "        c = a +  b \n",
    "        a = b \n",
    "        b = c\n",
    "        print(c)\n"
   ]
  },
  {
   "cell_type": "code",
   "execution_count": 6,
   "metadata": {},
   "outputs": [
    {
     "name": "stdout",
     "output_type": "stream",
     "text": [
      "Fibonacci(7) = 13\n"
     ]
    }
   ],
   "source": [
    "#recursion using \n",
    "def fibonacci(n):\n",
    "    if n <= 0:\n",
    "        return 0\n",
    "    elif n == 1:\n",
    "        return 1\n",
    "    else:\n",
    "        return fibonacci(n-1) + fibonacci(n-2)\n",
    "\n",
    "n = int(input(\"Enter a number: \")) \n",
    "print(f\"Fibonacci({n}) =\", fibonacci(n))\n"
   ]
  },
  {
   "cell_type": "markdown",
   "metadata": {},
   "source": [
    "# python program to cheak armstrong Number "
   ]
  },
  {
   "cell_type": "code",
   "execution_count": 28,
   "metadata": {},
   "outputs": [
    {
     "name": "stdout",
     "output_type": "stream",
     "text": [
      "153 it is an armstrong number\n"
     ]
    }
   ],
   "source": [
    "# 3 digit \n",
    "armstrong_num = int(input(\"enter a number here : \")) #153\n",
    "sum = 0 \n",
    "temp = armstrong_num\n",
    "while temp > 0:\n",
    "    digit = temp%10\n",
    "    cube = digit ** 3\n",
    "    sum = sum + cube \n",
    "    temp //= 10 \n",
    "if sum == armstrong_num:\n",
    "    print (armstrong_num,\"it is an armstrong number\")\n",
    "else :\n",
    "    print(armstrong_num,\"it is not armstrong number\")\n"
   ]
  },
  {
   "cell_type": "code",
   "execution_count": 25,
   "metadata": {},
   "outputs": [
    {
     "name": "stdout",
     "output_type": "stream",
     "text": [
      "1634 it is an armstrong number\n"
     ]
    }
   ],
   "source": [
    "# 4 digit \n",
    "num = int(input(\"Enter a number: \"))  \n",
    "order = len(str(num))  \n",
    "sum = 0  \n",
    "temp = num  \n",
    "while temp > 0:\n",
    "    digit = temp % 10  \n",
    "    sum += digit ** order \n",
    "    temp //= 10 \n",
    "\n",
    "if num == sum:\n",
    "    print(f\"{num} it is an armstrong number\")\n",
    "else:\n",
    "    print(f\"{num} it is not armstrong numbe\")\n"
   ]
  },
  {
   "cell_type": "markdown",
   "metadata": {},
   "source": [
    "# program to cheak find armstrong number in an interval "
   ]
  },
  {
   "cell_type": "code",
   "execution_count": 33,
   "metadata": {},
   "outputs": [
    {
     "name": "stdout",
     "output_type": "stream",
     "text": [
      "the 100 to 10000 in =   153 armstrong number\n",
      "the 100 to 10000 in =   370 armstrong number\n",
      "the 100 to 10000 in =   371 armstrong number\n",
      "the 100 to 10000 in =   407 armstrong number\n",
      "the 100 to 10000 in =   1634 armstrong number\n",
      "the 100 to 10000 in =   8208 armstrong number\n",
      "the 100 to 10000 in =   9474 armstrong number\n"
     ]
    }
   ],
   "source": [
    "lower = int(input(\"enter the lower limit here:\")) # 100 \n",
    "upper = int(input (\"enter the upper limit here:\")) # 10000\n",
    "sum = 0 \n",
    "for i in range(lower,upper + 1):\n",
    "    order =len(str(i))\n",
    "    sum = 0 \n",
    "    temp = i \n",
    "    while temp > 0:\n",
    "        digit = temp % 10 \n",
    "        sum += digit** order \n",
    "        temp //= 10 \n",
    "    if i == sum :\n",
    "        print(\"the\",lower,\"to\", upper,\"in =  \",i,\"armstrong number\")\n"
   ]
  },
  {
   "cell_type": "markdown",
   "metadata": {},
   "source": [
    "# Python program to find the sum of Nutural Numbers "
   ]
  },
  {
   "cell_type": "code",
   "execution_count": 39,
   "metadata": {},
   "outputs": [
    {
     "name": "stdout",
     "output_type": "stream",
     "text": [
      "15 is nutural number\n"
     ]
    }
   ],
   "source": [
    "nutural = int(input(\"enter a number here:\"))\n",
    "\n",
    "if  nutural < 0:\n",
    "    print ( \"please enter a positive number\")\n",
    "else:\n",
    "    sum = 0 \n",
    "    while nutural > 0:\n",
    "        sum += nutural\n",
    "        nutural -= 1 \n",
    "        break\n",
    "    print(sum,\"is nutural number\")"
   ]
  }
 ],
 "metadata": {
  "kernelspec": {
   "display_name": "myenv",
   "language": "python",
   "name": "python3"
  },
  "language_info": {
   "codemirror_mode": {
    "name": "ipython",
    "version": 3
   },
   "file_extension": ".py",
   "mimetype": "text/x-python",
   "name": "python",
   "nbconvert_exporter": "python",
   "pygments_lexer": "ipython3",
   "version": "3.13.1"
  }
 },
 "nbformat": 4,
 "nbformat_minor": 2
}
