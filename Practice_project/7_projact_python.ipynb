{
 "cells": [
  {
   "cell_type": "markdown",
   "metadata": {},
   "source": [
    "# python list comprehension"
   ]
  },
  {
   "cell_type": "code",
   "execution_count": 12,
   "metadata": {},
   "outputs": [
    {
     "name": "stdout",
     "output_type": "stream",
     "text": [
      "IRONMAN\n",
      "HULK\n",
      "THOR\n",
      "VISION\n",
      "['IRONMAN', 'HULK', 'THOR', 'VISION']\n",
      "[1, 2, 3, 4, 5, 6, 7, 8, 9, 10]\n",
      "[2, 4, 6, 8]\n",
      "[2, 4, 6, 8, 10]\n"
     ]
    }
   ],
   "source": [
    "a = [\"ironman\",\"hulk\",\"thor\",\"vision\"]\n",
    "for i in a:\n",
    "    print(i.upper())\n",
    "\n",
    "new_list =[i.upper() for i in a]\n",
    "print(new_list)\n",
    "\n",
    "m = [i for i in range(1,11)]\n",
    "\n",
    "print(m)\n",
    "\n",
    "k = [1,2,3,4,5,6,7,8,9]\n",
    "empty_l = []\n",
    "\n",
    "for j in k :\n",
    "    if j % 2 == 0:\n",
    "        empty_l.append(j)\n",
    "print(empty_l)\n",
    "\n",
    "m = [i for i in range(1,11) if i % 2 == 0]\n",
    "print(m)"
   ]
  },
  {
   "cell_type": "markdown",
   "metadata": {},
   "source": [
    "# Text to speech (Free) - how to generate your onw voice using python"
   ]
  },
  {
   "cell_type": "code",
   "execution_count": null,
   "metadata": {},
   "outputs": [],
   "source": [
    "import gtts \n",
    "import playsound\n",
    "\n",
    "text = input(\"Enter something here :\")\n",
    "\n",
    "sound = gtts.gTTS(text , lang = \"ben\")\n",
    "\n",
    "sound.save(\"use_7_projact_python.mp3\")\n",
    "\n",
    "playsound.playsound(\"use_7_projact_python.mp3\")\n",
    "\n"
   ]
  },
  {
   "cell_type": "markdown",
   "metadata": {},
   "source": [
    "# 15 Tips and Tricks to Write a better pythob code "
   ]
  },
  {
   "cell_type": "code",
   "execution_count": null,
   "metadata": {},
   "outputs": [
    {
     "name": "stdout",
     "output_type": "stream",
     "text": [
      "GOOD JOB!\n",
      "GOOD JOB STUDENT\n",
      "Excellent Work\n",
      "HEY STUDENT GOOD JOB\n"
     ]
    }
   ],
   "source": [
    "#multiple checks in if statement \n",
    "marks =int(input(\"ENTER YOU MARKS NUMBER\")) #95\n",
    "\n",
    "if marks == 90 or marks == 80 or marks == 95:\n",
    "    print(\"GOOD JOB!\")\n",
    "if 80 in [90,80,95]:\n",
    "    print(\"GOOD JOB STUDENT\")\n",
    "if marks > 90 :\n",
    "    print(\"Excellent Work\")\n",
    "else:\n",
    "    print(\"YES GOOD JOB\")\n",
    "\n",
    "print(\"HEY STUDENT GOOD JOB\") if marks > 90 else print(\"GOOD JOB GUYS\")"
   ]
  },
  {
   "cell_type": "code",
   "execution_count": 24,
   "metadata": {},
   "outputs": [
    {
     "name": "stdout",
     "output_type": "stream",
     "text": [
      "Using for loop [100, 60, 40, 120, 40, 80]\n",
      "Using list comprehension [100, 60, 40, 120, 40, 80]\n"
     ]
    }
   ],
   "source": [
    "#list comprehension \n",
    "l = [50,30,20,60,20,40]\n",
    "a = []\n",
    "for i in l:\n",
    "    a.append(i*2)\n",
    "print(\"Using for loop\",a)\n",
    "\n",
    "x = [i*2 for i in l]\n",
    "print(\"Using list comprehension\",x)"
   ]
  },
  {
   "cell_type": "code",
   "execution_count": 2,
   "metadata": {},
   "outputs": [
    {
     "name": "stdout",
     "output_type": "stream",
     "text": [
      "0 10\n",
      "1 20\n",
      "2 40\n",
      "3 30\n",
      "4 40\n",
      "(0, 10)\n",
      "(1, 20)\n",
      "(2, 40)\n",
      "(3, 30)\n",
      "(4, 40)\n"
     ]
    }
   ],
   "source": [
    "# Using Enumerate Function \n",
    "l =[10,20,40,30,40]\n",
    "index = 0\n",
    "for i in l :\n",
    "    print(index,i)\n",
    "    index += 1\n",
    "\n",
    "for i in enumerate(l):\n",
    "    print(i)\n"
   ]
  },
  {
   "cell_type": "code",
   "execution_count": 5,
   "metadata": {},
   "outputs": [
    {
     "name": "stdout",
     "output_type": "stream",
     "text": [
      " 9,010,000\n"
     ]
    }
   ],
   "source": [
    "# using _ as separators \n",
    "num1 = 90_00_000\n",
    "num2 = 10_000\n",
    "sum =(num1 + num2)\n",
    "print(f\"{sum : ,}\")"
   ]
  },
  {
   "cell_type": "code",
   "execution_count": 7,
   "metadata": {},
   "outputs": [
    {
     "name": "stdout",
     "output_type": "stream",
     "text": [
      "16\n",
      "25\n"
     ]
    }
   ],
   "source": [
    "# LAmbda Function \n",
    "def sq(x):\n",
    "    return x*x \n",
    "print(sq(4))\n",
    "\n",
    "a = lambda b : b**2 \n",
    "print(a(5))"
   ]
  },
  {
   "cell_type": "code",
   "execution_count": 11,
   "metadata": {},
   "outputs": [
    {
     "name": "stdout",
     "output_type": "stream",
     "text": [
      "Joe has scored 90 marks in math\n",
      "Chandler has scored 60 marks in art\n",
      "ross has scored 50 marks in biology\n",
      "Phoebe has scored 95 marks in psychology\n",
      "\n",
      "joe has scored 90 marks in math\n",
      "Chandler has scored 60 marks in art\n",
      "Ross has scored 50 marks in biology\n",
      "Phoebe has scored 95 marks in psychology\n"
     ]
    }
   ],
   "source": [
    "#using zip function \n",
    "print(\"Joe has scored 90 marks in math\")\n",
    "print(\"Chandler has scored 60 marks in art\")\n",
    "print(\"ross has scored 50 marks in biology\")\n",
    "print(\"Phoebe has scored 95 marks in psychology\")\n",
    "\n",
    "\n",
    "names = [\"joe\",\"Chandler\",\"Ross\",\"Phoebe\"]\n",
    "marks =[90,60,50,95]\n",
    "subjacts = [\"math\",\"art\",\"biology\",\"psychology\"]\n",
    "print()\n",
    "for name,mark,subjact in zip(names,marks,subjacts):\n",
    "    print(name,\"has scored\", mark,\"marks in\",subjact)\n"
   ]
  },
  {
   "cell_type": "code",
   "execution_count": 12,
   "metadata": {},
   "outputs": [
    {
     "name": "stdout",
     "output_type": "stream",
     "text": [
      "Login Successful\n"
     ]
    }
   ],
   "source": [
    "#protect password in terminal \n",
    "username = input(\"enter username\")\n",
    "password = input(\"enter a password\")\n",
    "print(\"Login Successful\")"
   ]
  },
  {
   "cell_type": "code",
   "execution_count": 18,
   "metadata": {},
   "outputs": [
    {
     "name": "stdout",
     "output_type": "stream",
     "text": [
      "[10, 20, 30, 20, 30, 40, 20, 40, 50, 60]\n",
      "[40, 10, 50, 20, 60, 30]\n"
     ]
    }
   ],
   "source": [
    "#Using sets to sort the unique values \n",
    "l = [10,20,30,20,30,40,20,40,50,60]\n",
    "print(l)\n",
    "my_set= set(l)\n",
    "print(list(my_set))"
   ]
  },
  {
   "cell_type": "code",
   "execution_count": 22,
   "metadata": {},
   "outputs": [
    {
     "name": "stdout",
     "output_type": "stream",
     "text": [
      "my name is sapnil\n",
      "my name is sapnil\n",
      "The addition of 30 and 40 is 70\n"
     ]
    }
   ],
   "source": [
    "#format string with f string\n",
    "name =\"sapnil\"\n",
    "print(\"my name is\",name)\n",
    "print(f\"my name is {name}\")\n",
    "\n",
    "x = 30 \n",
    "y = 40 \n",
    "print(f\"The addition of {x} and {y} is {x +y}\")"
   ]
  },
  {
   "cell_type": "code",
   "execution_count": null,
   "metadata": {},
   "outputs": [
    {
     "name": "stdout",
     "output_type": "stream",
     "text": [
      "[96, 67, 56, 30, 28, 12]\n",
      "{'name': 'Chandler', 'Marks': 67}\n",
      "{'name': 'Joe', 'Marks': 78}\n",
      "{'name': 'Ross', 'Marks': 87}\n",
      "{'name': 'Gunther', 'Marks': 96}\n"
     ]
    }
   ],
   "source": [
    "#using sorted to sort the complex iterables \n",
    "l = [67,30,56,28,96,12]\n",
    "sorted_list = sorted(l,reverse=True)\n",
    "print(sorted_list)\n",
    "\n",
    "\n",
    "dl = [  {\"name\" : \"Ross\", \"Marks\" : 87},\n",
    "        {\"name\" : \"Joe\", \"Marks\" : 78},\n",
    "        {\"name\" : \"Chandler\", \"Marks\" : 67},\n",
    "        {\"name\" : \"Gunther\", \"Marks\" : 96},    ]\n",
    "\n",
    "sorted_data = (sorted(dl,key=lambda x : x[\"Marks\"]))\n",
    "for i in sorted_data:\n",
    "    print(i)\n"
   ]
  },
  {
   "cell_type": "code",
   "execution_count": 33,
   "metadata": {},
   "outputs": [
    {
     "name": "stdout",
     "output_type": "stream",
     "text": [
      "{'name': 'Ross', 'Marks': 89, 'Hobbies': 'Singing'}\n"
     ]
    }
   ],
   "source": [
    "#merge dictionaries using ** \n",
    "dict1 = {\"name\":\"Ross\",\"Marks\":89}\n",
    "dict2 = {\"name\":\"Ross\",\"Hobbies\":\"Singing\"}\n",
    "merge_dict = {** dict1 , **dict2}\n",
    "\n",
    "print(merge_dict)"
   ]
  },
  {
   "cell_type": "code",
   "execution_count": 38,
   "metadata": {},
   "outputs": [
    {
     "name": "stdout",
     "output_type": "stream",
     "text": [
      "10 20\n",
      "10 20 [30, 40] 50\n"
     ]
    }
   ],
   "source": [
    "# unpacking using _ and * variable \n",
    "a,b,*_ =(10,20,30,40,50)\n",
    "print(a,b)\n",
    "\n",
    "a,b,*c,d=(10,20,30,40,50)\n",
    "print(a,b,c,d)"
   ]
  },
  {
   "cell_type": "code",
   "execution_count": null,
   "metadata": {},
   "outputs": [
    {
     "name": "stdout",
     "output_type": "stream",
     "text": [
      "800984 bytes\n",
      "192 bytes\n"
     ]
    }
   ],
   "source": [
    "# generators to save the memory \n",
    "import sys\n",
    "l = [i for i in range(90000)]\n",
    "#print(sum(l))\n",
    "print(sys.getsizeof(l),\"bytes\")\n",
    "\n",
    "g =(j for j in range(90000))\n",
    "print(sys.getsizeof(g),\"bytes\")"
   ]
  },
  {
   "cell_type": "code",
   "execution_count": 67,
   "metadata": {},
   "outputs": [
    {
     "name": "stdout",
     "output_type": "stream",
     "text": [
      " welcome to sapnil code \n",
      "welcome to sapnil code\n"
     ]
    }
   ],
   "source": [
    "#usnig .join to concatenate string\n",
    "l = [\"welcome\",\"to\",\"sapnil\",\"code\"]\n",
    "a = \" \"\n",
    "for i in l :\n",
    "    a += i + \" \"\n",
    "print(a)\n",
    "\n",
    "a = \" \".join(l)\n",
    "print(a)"
   ]
  },
  {
   "cell_type": "markdown",
   "metadata": {},
   "source": [
    "# Voice Translator using python program"
   ]
  },
  {
   "cell_type": "code",
   "execution_count": 79,
   "metadata": {},
   "outputs": [
    {
     "name": "stdout",
     "output_type": "stream",
     "text": [
      "<coroutine object Translator.translate at 0x0000027AD51B3640>\n"
     ]
    },
    {
     "name": "stderr",
     "output_type": "stream",
     "text": [
      "C:\\Users\\SAPNIL SAHA PC\\AppData\\Local\\Temp\\ipykernel_17520\\2074293859.py:4: RuntimeWarning: coroutine 'Translator.translate' was never awaited\n",
      "  translation =translator.translate(texts,dest=\"bn\")\n",
      "RuntimeWarning: Enable tracemalloc to get the object allocation traceback\n"
     ]
    }
   ],
   "source": [
    "import googletrans\n",
    "texts =input(\"Enter a word here :\")\n",
    "translator = googletrans.Translator()\n",
    "translation =translator.translate(texts,dest=\"bn\")\n",
    "print(translation)\n",
    "\n",
    "#print(googletrans.LANGUAGES)"
   ]
  },
  {
   "cell_type": "code",
   "execution_count": null,
   "metadata": {},
   "outputs": [],
   "source": [
    "from googletrans import Translator \n",
    "import speech_recognition\n",
    "import gtts \n",
    "import playsound\n",
    "recognizer =speech_recognition.Recognizer()\n",
    "with speech_recognition.Microphone() as source:\n",
    "    print(\"Speak Now\")\n",
    "    voice = recognizer.listen(source)\n",
    "    text =recognizer.recognize_google(voice, lang =\"bn\")\n",
    "    print(text)\n",
    "\n",
    "translator =googletrans.Translator()\n",
    "translation =translator.translate(text,dest=\"bn\")\n",
    "print(translation.text)\n",
    "\n",
    "convert_audio= gtts.gTTS(translation.text,langu =\"bn\")\n",
    "convert_audio.save(\"use_7_projact_python_voice.mp3\")\n",
    "playsound.playsound(\"use_7_projact_python_voice.mp3\")\n"
   ]
  },
  {
   "cell_type": "code",
   "execution_count": 16,
   "metadata": {},
   "outputs": [
    {
     "name": "stdout",
     "output_type": "stream",
     "text": [
      "🎤 Speak Now...\n",
      "📝 You said: বাংলা দেশি\n",
      "🌍 Translated: Bengali\n"
     ]
    }
   ],
   "source": [
    "import speech_recognition as sr\n",
    "from deep_translator import GoogleTranslator\n",
    "import gtts\n",
    "import pygame\n",
    "import time\n",
    "\n",
    "# Step 1: Voice Input\n",
    "recognizer = sr.Recognizer()\n",
    "with sr.Microphone() as source:\n",
    "    print(\"🎤 Speak Now...\")\n",
    "    recognizer.adjust_for_ambient_noise(source)  # Background noise\n",
    "    voice = recognizer.listen(source)\n",
    "\n",
    "try:\n",
    "    text = recognizer.recognize_google(voice, language=\"bn\")  \n",
    "    print(\"📝 You said:\", text)\n",
    "\n",
    "    # Step 2: Translate (Using deep-translator)\n",
    "    translator = GoogleTranslator(source=\"bn\", target=\"en\")  \n",
    "    translated_text = translator.translate(text)\n",
    "    print(\"🌍 Translated:\", translated_text)\n",
    "\n",
    "    # Step 3: Text-to-Speech\n",
    "    tts = gtts.gTTS(translated_text, lang=\"en\")\n",
    "    tts.save(\"use_7_porjact_python_translated_audio.mp3\")\n",
    "\n",
    "    # Step 4: Play Audio\n",
    "    pygame.mixer.init()\n",
    "    pygame.mixer.music.load(\"use_7_porjact_python_translated_audio.mp3\")\n",
    "    pygame.mixer.music.play()\n",
    "\n",
    "    while pygame.mixer.music.get_busy():\n",
    "        time.sleep(1)  \n",
    "\n",
    "except sr.UnknownValueError:\n",
    "    print(\"⚠️ Sorry, I couldn't understand what you said!\")\n",
    "except sr.RequestError:\n",
    "    print(\"❌ Network Error! Please check your internet connection.\")\n"
   ]
  },
  {
   "cell_type": "markdown",
   "metadata": {},
   "source": [
    "# Short Hand if and if-else statement "
   ]
  },
  {
   "cell_type": "code",
   "execution_count": 27,
   "metadata": {},
   "outputs": [
    {
     "name": "stdout",
     "output_type": "stream",
     "text": [
      "odd number\n",
      "Odd number\n"
     ]
    }
   ],
   "source": [
    "num= int(input(\"enter a number \"))\n",
    "#if statement\n",
    "if num % 2 == 0:\n",
    "    print(\"Even Number\")\n",
    "else:\n",
    "    print(\"odd number\")\n",
    "\n",
    "#shorthand if statement \n",
    "print(\"even number\") if num % 2 == 0 else print (\"Odd number\")"
   ]
  },
  {
   "cell_type": "markdown",
   "metadata": {},
   "source": [
    "# Create your onw AudioBook using Python codes "
   ]
  },
  {
   "cell_type": "code",
   "execution_count": 33,
   "metadata": {},
   "outputs": [
    {
     "name": "stdout",
     "output_type": "stream",
     "text": [
      "Total Pages: 22\n",
      "Extracted Text: ML Engineer Roadmap5Roadmap Overview Below is a comprehensive table listing all the essential skills needed to become a proficient machine learning engineer, along with the estimated time required to learn each skill.  Keep in mind that the time needed to learn each skill can vary for everyone. These estimates are based on dedicating 3 to 5 hours of study every day. Use this roadmap to guide your learning journey and track your progress as you build a strong foundation in machine learning. SkillEst. TimeLearning PhaseProgramming Python)12 monthsBeginnerVersion Control (Git)12 weeksBeginnerData Structures & Algorithms12 monthsBeginnerSQL12 monthsBeginnerMathematics and Statistics23 monthsBeginnerData Handling and Processing12 monthsIntermediateMachine Learning Fundamentals34 monthsIntermediateAdvanced Machine Learning Concepts23 monthsAdvancedModel Deployment12 monthsAdvancedTotal1220 months\n",
      "Copyright 2024 Code with Moshcodewithmosh.com\n"
     ]
    }
   ],
   "source": [
    "import pyttsx3\n",
    "import PyPDF2\n",
    "\n",
    "file = open(\"use_7_projact_python_pdf.pdf\", \"rb\") \n",
    "pdf_reader = PyPDF2.PdfReader(file)\n",
    "\n",
    "\n",
    "pages = len(pdf_reader.pages)\n",
    "print(f\"Total Pages: {pages}\")\n",
    "\n",
    "\n",
    "melo = pyttsx3.init()\n",
    "\n",
    "\n",
    "if pages > 4:  \n",
    "    page = pdf_reader.pages[4] \n",
    "    text = page.extract_text()  \n",
    "    print(\"Extracted Text:\", text)\n",
    "\n",
    "    \n",
    "    melo.say(text)  \n",
    "    melo.runAndWait()\n",
    "else:\n",
    "    print(\"❌ PDF has less than 5 pages!\")\n",
    "\n",
    "file.close()\n"
   ]
  },
  {
   "cell_type": "markdown",
   "metadata": {},
   "source": [
    "# Rock paper scissors : Build a game using python program "
   ]
  },
  {
   "cell_type": "code",
   "execution_count": null,
   "metadata": {},
   "outputs": [
    {
     "name": "stdout",
     "output_type": "stream",
     "text": [
      "\n",
      "=== Rock Paper Scissors Game ===\n",
      "Computer chose: scissors\n",
      "You win! 🎉\n",
      "Score - You: 1 | Computer: 0\n",
      "\n",
      "=== Rock Paper Scissors Game ===\n",
      "Computer chose: rock\n",
      "You win! 🎉\n",
      "Score - You: 2 | Computer: 0\n",
      "Thanks for playing! 👋\n"
     ]
    }
   ],
   "source": [
    "import random\n",
    "\n",
    "def get_computer_choice():\n",
    "    return random.choice([\"rock\", \"paper\", \"scissors\"])\n",
    "\n",
    "def get_user_choice():\n",
    "    while True:\n",
    "        user_choice = input(\"Enter rock, paper, or scissors: \").lower()\n",
    "        if user_choice in [\"rock\", \"paper\", \"scissors\"]:\n",
    "            return user_choice\n",
    "        print(\"Invalid choice! Please try again.\")\n",
    "\n",
    "def determine_winner(user, computer):\n",
    "    if user == computer:\n",
    "        return \"It's a tie!\"\n",
    "    elif (user == \"rock\" and computer == \"scissors\") or \\\n",
    "         (user == \"scissors\" and computer == \"paper\") or \\\n",
    "         (user == \"paper\" and computer == \"rock\"):\n",
    "        return \"You win! 🎉\"\n",
    "    else:\n",
    "        return \"Computer wins! 🤖\"\n",
    "\n",
    "def play_game():\n",
    "    user_score = 0\n",
    "    computer_score = 0\n",
    "\n",
    "    while True:\n",
    "        print(\"\\n=== Rock Paper Scissors Game ===\")\n",
    "        user = get_user_choice()\n",
    "        computer = get_computer_choice()\n",
    "        print(f\"Computer chose: {computer}\")\n",
    "\n",
    "        result = determine_winner(user, computer)\n",
    "        print(result)\n",
    "\n",
    "        if \"win\" in result:\n",
    "            user_score += 1\n",
    "        elif \"Computer\" in result:\n",
    "            computer_score += 1\n",
    "\n",
    "        print(f\"Score - You: {user_score} | Computer: {computer_score}\")\n",
    "\n",
    "        play_again = input(\"Do you want to play again? (yes/no): \").lower()\n",
    "        if play_again != \"yes\":\n",
    "            print(\"Thanks for playing! 👋\")\n",
    "            break\n",
    "\n",
    "play_game()\n",
    "\n"
   ]
  },
  {
   "cell_type": "markdown",
   "metadata": {},
   "source": [
    "# anagram Game : Build a scrambled word game Using Python "
   ]
  },
  {
   "cell_type": "code",
   "execution_count": 39,
   "metadata": {},
   "outputs": [
    {
     "name": "stdout",
     "output_type": "stream",
     "text": [
      "🎮 Welcome to the Anagram Game!\n",
      "\n",
      "🔠 Your scrambled word is: zlepuz\n",
      "❌ Wrong! Try again! (Attempts left: 2)\n",
      "🎉 Great! You got it right!\n",
      "👋 Thanks for playing! See you again!\n"
     ]
    }
   ],
   "source": [
    "import random  # To shuffle words randomly\n",
    "from time import sleep  # To add small delays\n",
    "\n",
    "# 🎯 List of words to choose from\n",
    "words = [\"python\", \"elephant\", \"guitar\", \"puzzle\", \"anagram\", \"universe\", \"computer\", \"developer\"]\n",
    "\n",
    "def shuffle_word(word):\n",
    "    \"\"\"Function to scramble (shuffle) a word\"\"\"\n",
    "    scrambled = list(word)  # Convert word to a list of letters\n",
    "    random.shuffle(scrambled)  # Shuffle the letters randomly\n",
    "    return ''.join(scrambled)  # Convert the list back to a string\n",
    "\n",
    "def play_game():\n",
    "    print(\"🎮 Welcome to the Anagram Game!\")\n",
    "    word = random.choice(words)  # Choose a random word from the list\n",
    "    scrambled_word = shuffle_word(word)  # Scramble the chosen word\n",
    "    \n",
    "    print(f\"\\n🔠 Your scrambled word is: {scrambled_word}\")  # Show the scrambled word\n",
    "    \n",
    "    attempts = 3  # Number of attempts allowed\n",
    "    while attempts > 0:\n",
    "        guess = input(\"👉 Guess the correct word: \").lower()\n",
    "        \n",
    "        if guess == word:  # If the guess is correct\n",
    "            print(\"🎉 Great! You got it right!\")\n",
    "            break\n",
    "        else:\n",
    "            attempts -= 1\n",
    "            if attempts > 0:\n",
    "                print(f\"❌ Wrong! Try again! (Attempts left: {attempts})\")\n",
    "            else:\n",
    "                print(f\"😢 You lost! The correct word was: {word}\")\n",
    "\n",
    "    play_again = input(\"\\n🔄 Do you want to play again? (yes/no): \").lower()\n",
    "    if play_again == \"yes\":\n",
    "        play_game()\n",
    "    else:\n",
    "        print(\"👋 Thanks for playing! See you again!\")\n",
    "\n",
    "play_game()\n"
   ]
  },
  {
   "cell_type": "markdown",
   "metadata": {},
   "source": [
    "# How to Take Multiple inpurt from the user using python program"
   ]
  },
  {
   "cell_type": "code",
   "execution_count": 40,
   "metadata": {},
   "outputs": [
    {
     "name": "stdout",
     "output_type": "stream",
     "text": [
      "The Values a is niloy \n",
      "The Values a is sapnil\n",
      "The Values a is saha\n"
     ]
    }
   ],
   "source": [
    "a,b,c =input(\"Enter Three values here :\").split(\",\")\n",
    "\n",
    "print(\"The Values a is\",a)\n",
    "print(\"The Values a is\",b)\n",
    "print(\"The Values a is\",c)"
   ]
  },
  {
   "cell_type": "code",
   "execution_count": 43,
   "metadata": {},
   "outputs": [
    {
     "name": "stdout",
     "output_type": "stream",
     "text": [
      "The addition of the given number is : 50\n"
     ]
    }
   ],
   "source": [
    "a,b,c =input(\"Enter Three values here :\").split(\",\")\n",
    "x = (int(a)+int(b)+int(c))\n",
    "print(\"The addition of the given number is :\",x)"
   ]
  },
  {
   "cell_type": "code",
   "execution_count": 44,
   "metadata": {},
   "outputs": [
    {
     "name": "stdout",
     "output_type": "stream",
     "text": [
      "The addition of the given number is : 50\n"
     ]
    }
   ],
   "source": [
    "x,y,x =[int(x) for x in input(\"Enter Three Values :\").split(\",\")]\n",
    "addtion = (int(a)+int(b)+int(c))\n",
    "print(\"The addition of the given number is :\",addtion)\n"
   ]
  },
  {
   "cell_type": "markdown",
   "metadata": {},
   "source": [
    "# Generators in python "
   ]
  },
  {
   "cell_type": "code",
   "execution_count": 50,
   "metadata": {},
   "outputs": [
    {
     "name": "stdout",
     "output_type": "stream",
     "text": [
      "1\n",
      "2\n",
      "3\n",
      "4\n"
     ]
    }
   ],
   "source": [
    "def my_gen():\n",
    "    yield 1\n",
    "    yield 2\n",
    "    yield 3\n",
    "    yield 4\n",
    "\n",
    "x = my_gen()\n",
    "print(x.__next__())\n",
    "print(x.__next__())\n",
    "print(x.__next__())\n",
    "print(x.__next__())"
   ]
  },
  {
   "cell_type": "code",
   "execution_count": 51,
   "metadata": {},
   "outputs": [
    {
     "name": "stdout",
     "output_type": "stream",
     "text": [
      "0\n",
      "2\n",
      "4\n",
      "6\n",
      "8\n",
      "10\n",
      "12\n",
      "14\n"
     ]
    }
   ],
   "source": [
    "def my_gen(n):\n",
    "    a = 0\n",
    "    while a < n:\n",
    "        if a % 2 == 0 :\n",
    "            yield a\n",
    "        a += 1\n",
    "\n",
    "x = my_gen(15)\n",
    "\n",
    "for i in x:\n",
    "    print(i)"
   ]
  },
  {
   "cell_type": "code",
   "execution_count": 59,
   "metadata": {},
   "outputs": [
    {
     "name": "stdout",
     "output_type": "stream",
     "text": [
      "0\n",
      "1\n",
      "1\n",
      "2\n",
      "3\n",
      "5\n",
      "8\n"
     ]
    }
   ],
   "source": [
    "def fibo(n):\n",
    "    a,b = 0,1\n",
    "\n",
    "    while a < n:\n",
    "        yield a \n",
    "        a,b= b, b+a\n",
    "\n",
    "x = fibo(10)\n",
    "print(x.__next__())\n",
    "print(x.__next__())\n",
    "print(x.__next__())\n",
    "print(x.__next__())\n",
    "print(x.__next__())\n",
    "print(x.__next__())\n",
    "print(x.__next__())\n",
    "\n",
    "for i in x:\n",
    "    print(x)"
   ]
  }
 ],
 "metadata": {
  "kernelspec": {
   "display_name": "myenv",
   "language": "python",
   "name": "python3"
  },
  "language_info": {
   "codemirror_mode": {
    "name": "ipython",
    "version": 3
   },
   "file_extension": ".py",
   "mimetype": "text/x-python",
   "name": "python",
   "nbconvert_exporter": "python",
   "pygments_lexer": "ipython3",
   "version": "3.13.1"
  }
 },
 "nbformat": 4,
 "nbformat_minor": 2
}
